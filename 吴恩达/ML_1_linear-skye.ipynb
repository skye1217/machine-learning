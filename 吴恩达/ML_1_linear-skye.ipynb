{
 "cells": [
  {
   "cell_type": "markdown",
   "id": "bbf41ea4",
   "metadata": {},
   "source": [
    "### HW1-linear regression"
   ]
  },
  {
   "cell_type": "code",
   "execution_count": 1,
   "id": "b33336fa",
   "metadata": {},
   "outputs": [],
   "source": [
    "import numpy as np\n",
    "import pandas as pd\n",
    "import matplotlib.pyplot as plt"
   ]
  },
  {
   "cell_type": "code",
   "execution_count": 2,
   "id": "a7501de5",
   "metadata": {},
   "outputs": [
    {
     "data": {
      "text/html": [
       "<div>\n",
       "<style scoped>\n",
       "    .dataframe tbody tr th:only-of-type {\n",
       "        vertical-align: middle;\n",
       "    }\n",
       "\n",
       "    .dataframe tbody tr th {\n",
       "        vertical-align: top;\n",
       "    }\n",
       "\n",
       "    .dataframe thead th {\n",
       "        text-align: right;\n",
       "    }\n",
       "</style>\n",
       "<table border=\"1\" class=\"dataframe\">\n",
       "  <thead>\n",
       "    <tr style=\"text-align: right;\">\n",
       "      <th></th>\n",
       "      <th>x0</th>\n",
       "      <th>Population</th>\n",
       "      <th>Profit</th>\n",
       "    </tr>\n",
       "  </thead>\n",
       "  <tbody>\n",
       "    <tr>\n",
       "      <th>0</th>\n",
       "      <td>1</td>\n",
       "      <td>6.1101</td>\n",
       "      <td>17.5920</td>\n",
       "    </tr>\n",
       "    <tr>\n",
       "      <th>1</th>\n",
       "      <td>1</td>\n",
       "      <td>5.5277</td>\n",
       "      <td>9.1302</td>\n",
       "    </tr>\n",
       "    <tr>\n",
       "      <th>2</th>\n",
       "      <td>1</td>\n",
       "      <td>8.5186</td>\n",
       "      <td>13.6620</td>\n",
       "    </tr>\n",
       "    <tr>\n",
       "      <th>3</th>\n",
       "      <td>1</td>\n",
       "      <td>7.0032</td>\n",
       "      <td>11.8540</td>\n",
       "    </tr>\n",
       "    <tr>\n",
       "      <th>4</th>\n",
       "      <td>1</td>\n",
       "      <td>5.8598</td>\n",
       "      <td>6.8233</td>\n",
       "    </tr>\n",
       "  </tbody>\n",
       "</table>\n",
       "</div>"
      ],
      "text/plain": [
       "   x0  Population   Profit\n",
       "0   1      6.1101  17.5920\n",
       "1   1      5.5277   9.1302\n",
       "2   1      8.5186  13.6620\n",
       "3   1      7.0032  11.8540\n",
       "4   1      5.8598   6.8233"
      ]
     },
     "execution_count": 2,
     "metadata": {},
     "output_type": "execute_result"
    }
   ],
   "source": [
    "data_1=pd.read_csv('/Users/yangguangqiang/Music/career-2021/ML-startup/吴恩达/ML-homework-main/ex1-linear regression/ex1data1.txt'\n",
    "                   ,header=None, names=['Population', 'Profit'])\n",
    "data_1.insert(0,'x0',value=1)\n",
    "data_1.head()"
   ]
  },
  {
   "cell_type": "code",
   "execution_count": 3,
   "id": "d88040b5",
   "metadata": {},
   "outputs": [
    {
     "data": {
      "image/png": "[encoded data removed]",
      "text/plain": [
       "<Figure size 576x288 with 1 Axes>"
      ]
     },
     "metadata": {
      "needs_background": "light"
     },
     "output_type": "display_data"
    }
   ],
   "source": [
    "data_1.plot(kind='scatter', x='Population', y='Profit', figsize=(8,4))\n",
    "plt.show()"
   ]
  },
  {
   "cell_type": "code",
   "execution_count": 2,
   "id": "2fa042fb",
   "metadata": {},
   "outputs": [],
   "source": [
    "#定义代价函数 MSE-矩阵形式。。。\n",
    "def cost_fun(X,Y,theta):\n",
    "    inner= np.power((X * theta.T)-Y,2)\n",
    "    return np.sum(inner)/(2*len(X))\n",
    "\n",
    "#定义梯度下降函数，来找theta参数\n",
    "def gradient_des(X,Y,Theta,learn_rate,iter_num): #方程在不断靠近极值，不用找最小值，限制迭代次数为停止条件\n",
    "    theta_temp= np.matrix(np.zeros(Theta.shape)) # 存theta值 （theta.shape 得到矩阵的shape）\n",
    "    cost_list=np.zeros(iter_num)  #存每一次的error\n",
    "    para_num=int(Theta.shape[1])\n",
    "    \n",
    "    for i in range(iter_num):\n",
    "        error=(X * Theta.T)-Y\n",
    "        for j in range(para_num):\n",
    "            term=np.multiply(error,X[:,j])\n",
    "            theta_temp[0,j]=theta_temp[0,j]-learn_rate/len(X)*np.sum(term)\n",
    "        Theta=theta_temp\n",
    "        cost_list[i]=cost_fun(X,Y,Theta)\n",
    "    return Theta,cost_list"
   ]
  },
  {
   "cell_type": "code",
   "execution_count": 4,
   "id": "2f2454b3",
   "metadata": {},
   "outputs": [
    {
     "name": "stdout",
     "output_type": "stream",
     "text": [
      "[[-3.24140214  1.1272942 ]]\n",
      "4.515955503078914\n"
     ]
    }
   ],
   "source": [
    "#数据处理，增加x0=1 ,取出数据组成 X/Y/theta 三个矩阵\n",
    "X=np.matrix(data_1.iloc[:,0:2].values)\n",
    "Y=np.matrix(data_1.iloc[:,2:].values)\n",
    "theta=np.matrix(np.array([0,0]))\n",
    "\n",
    "#计算\n",
    "L_rate=0.01 ; iteration=1000\n",
    "para,cost=gradient_des(X,Y,theta,L_rate, iteration)\n",
    "print(para)\n",
    "print(cost[-1])"
   ]
  },
  {
   "cell_type": "code",
   "execution_count": 21,
   "id": "252c86de",
   "metadata": {},
   "outputs": [
    {
     "data": {
      "image/png": "[encoded data removed]",
      "text/plain": [
       "<Figure size 576x288 with 1 Axes>"
      ]
     },
     "metadata": {
      "needs_background": "light"
     },
     "output_type": "display_data"
    }
   ],
   "source": [
    "#拟合图像\n",
    "x=np.linspace(data_1.Population.min(), data_1.Population.max(), 100)\n",
    "fx=para[0,0]+para[0,1]*x\n",
    "\n",
    "plt.figure(figsize=(8, 4))\n",
    "plt.xlabel('Population')\n",
    "plt.ylabel('Profit')\n",
    "l1 = plt.plot(x, fx, label='Prediction', color='red')\n",
    "l2 = plt.scatter(data_1.Population, data_1.Profit, label='Traing Data', )\n",
    "plt.legend(loc='best')\n",
    "plt.title('Predicted Profit vs Population Size')\n",
    "plt.show()"
   ]
  },
  {
   "cell_type": "code",
   "execution_count": 23,
   "id": "7c5aa982",
   "metadata": {},
   "outputs": [
    {
     "data": {
      "image/png": "[encoded data removed]",
      "text/plain": [
       "<Figure size 576x288 with 1 Axes>"
      ]
     },
     "metadata": {
      "needs_background": "light"
     },
     "output_type": "display_data"
    }
   ],
   "source": [
    "# 画出cost的走势\n",
    "plt.figure(figsize=(8,4))\n",
    "plt.xlabel('Iterations')\n",
    "plt.ylabel('Cost')\n",
    "plt.title('Error vs Training Epoch')\n",
    "plt.plot(np.arange(iteration), cost, 'r')\n",
    "plt.show()"
   ]
  },
  {
   "cell_type": "markdown",
   "id": "1dc8dfb4",
   "metadata": {},
   "source": [
    "### multi-variables"
   ]
  },
  {
   "cell_type": "code",
   "execution_count": 3,
   "id": "3eca19c3",
   "metadata": {},
   "outputs": [
    {
     "data": {
      "text/html": [
       "<div>\n",
       "<style scoped>\n",
       "    .dataframe tbody tr th:only-of-type {\n",
       "        vertical-align: middle;\n",
       "    }\n",
       "\n",
       "    .dataframe tbody tr th {\n",
       "        vertical-align: top;\n",
       "    }\n",
       "\n",
       "    .dataframe thead th {\n",
       "        text-align: right;\n",
       "    }\n",
       "</style>\n",
       "<table border=\"1\" class=\"dataframe\">\n",
       "  <thead>\n",
       "    <tr style=\"text-align: right;\">\n",
       "      <th></th>\n",
       "      <th>Size</th>\n",
       "      <th>Number</th>\n",
       "      <th>Price</th>\n",
       "    </tr>\n",
       "  </thead>\n",
       "  <tbody>\n",
       "    <tr>\n",
       "      <th>0</th>\n",
       "      <td>2104</td>\n",
       "      <td>3</td>\n",
       "      <td>399900</td>\n",
       "    </tr>\n",
       "    <tr>\n",
       "      <th>1</th>\n",
       "      <td>1600</td>\n",
       "      <td>3</td>\n",
       "      <td>329900</td>\n",
       "    </tr>\n",
       "    <tr>\n",
       "      <th>2</th>\n",
       "      <td>2400</td>\n",
       "      <td>3</td>\n",
       "      <td>369000</td>\n",
       "    </tr>\n",
       "    <tr>\n",
       "      <th>3</th>\n",
       "      <td>1416</td>\n",
       "      <td>2</td>\n",
       "      <td>232000</td>\n",
       "    </tr>\n",
       "    <tr>\n",
       "      <th>4</th>\n",
       "      <td>3000</td>\n",
       "      <td>4</td>\n",
       "      <td>539900</td>\n",
       "    </tr>\n",
       "  </tbody>\n",
       "</table>\n",
       "</div>"
      ],
      "text/plain": [
       "   Size  Number   Price\n",
       "0  2104       3  399900\n",
       "1  1600       3  329900\n",
       "2  2400       3  369000\n",
       "3  1416       2  232000\n",
       "4  3000       4  539900"
      ]
     },
     "execution_count": 3,
     "metadata": {},
     "output_type": "execute_result"
    }
   ],
   "source": [
    "data_2=pd.read_csv('/Users/yangguangqiang/Music/career-2021/ML-startup/吴恩达/ML-homework-main/ex1-linear regression/ex1data2.txt'\n",
    "                   ,header=None, names=['Size', 'Number','Price'])\n",
    "data_2.head()"
   ]
  },
  {
   "cell_type": "code",
   "execution_count": 4,
   "id": "54a50237",
   "metadata": {},
   "outputs": [
    {
     "data": {
      "text/html": [
       "<div>\n",
       "<style scoped>\n",
       "    .dataframe tbody tr th:only-of-type {\n",
       "        vertical-align: middle;\n",
       "    }\n",
       "\n",
       "    .dataframe tbody tr th {\n",
       "        vertical-align: top;\n",
       "    }\n",
       "\n",
       "    .dataframe thead th {\n",
       "        text-align: right;\n",
       "    }\n",
       "</style>\n",
       "<table border=\"1\" class=\"dataframe\">\n",
       "  <thead>\n",
       "    <tr style=\"text-align: right;\">\n",
       "      <th></th>\n",
       "      <th>x0</th>\n",
       "      <th>Size</th>\n",
       "      <th>Number</th>\n",
       "      <th>Price</th>\n",
       "    </tr>\n",
       "  </thead>\n",
       "  <tbody>\n",
       "    <tr>\n",
       "      <th>0</th>\n",
       "      <td>1</td>\n",
       "      <td>0.131415</td>\n",
       "      <td>-0.226093</td>\n",
       "      <td>0.480890</td>\n",
       "    </tr>\n",
       "    <tr>\n",
       "      <th>1</th>\n",
       "      <td>1</td>\n",
       "      <td>-0.509641</td>\n",
       "      <td>-0.226093</td>\n",
       "      <td>-0.084983</td>\n",
       "    </tr>\n",
       "    <tr>\n",
       "      <th>2</th>\n",
       "      <td>1</td>\n",
       "      <td>0.507909</td>\n",
       "      <td>-0.226093</td>\n",
       "      <td>0.231097</td>\n",
       "    </tr>\n",
       "    <tr>\n",
       "      <th>3</th>\n",
       "      <td>1</td>\n",
       "      <td>-0.743677</td>\n",
       "      <td>-1.554392</td>\n",
       "      <td>-0.876398</td>\n",
       "    </tr>\n",
       "    <tr>\n",
       "      <th>4</th>\n",
       "      <td>1</td>\n",
       "      <td>1.271071</td>\n",
       "      <td>1.102205</td>\n",
       "      <td>1.612637</td>\n",
       "    </tr>\n",
       "  </tbody>\n",
       "</table>\n",
       "</div>"
      ],
      "text/plain": [
       "   x0      Size    Number     Price\n",
       "0   1  0.131415 -0.226093  0.480890\n",
       "1   1 -0.509641 -0.226093 -0.084983\n",
       "2   1  0.507909 -0.226093  0.231097\n",
       "3   1 -0.743677 -1.554392 -0.876398\n",
       "4   1  1.271071  1.102205  1.612637"
      ]
     },
     "execution_count": 4,
     "metadata": {},
     "output_type": "execute_result"
    }
   ],
   "source": [
    "for string in ['Size', 'Number','Price']:\n",
    "    temp_mean=np.mean(data_2[string])\n",
    "    temp_std=np.std(data_2[string])\n",
    "    data_2[string]=(data_2[string]-temp_mean)/temp_std\n",
    "data_2.insert(0,'x0',value=1)\n",
    "data_2.head()"
   ]
  },
  {
   "cell_type": "code",
   "execution_count": 5,
   "id": "0dc61f07",
   "metadata": {},
   "outputs": [
    {
     "name": "stdout",
     "output_type": "stream",
     "text": [
      "[[-9.71799473e-17  8.79065699e-01 -4.74786542e-02]]\n",
      "0.1335417887907558\n"
     ]
    }
   ],
   "source": [
    "#数据处理，增加x0=1 ,取出数据组成 X/Y/theta 三个矩阵\n",
    "X2=np.matrix(data_2.iloc[:,0:3].values)\n",
    "Y2=np.matrix(data_2.iloc[:,3:].values)\n",
    "theta2=np.matrix(np.array([0,0,0]))\n",
    "\n",
    "#计算\n",
    "L_rate=0.01 ; iteration=1000\n",
    "para2,cost2=gradient_des(X2,Y2,theta2,L_rate, iteration)\n",
    "print(para2)\n",
    "print(cost2[-1])"
   ]
  },
  {
   "cell_type": "code",
   "execution_count": 6,
   "id": "4d2b190f",
   "metadata": {},
   "outputs": [
    {
     "data": {
      "image/png": "[encoded data removed]",
      "text/plain": [
       "<Figure size 576x288 with 1 Axes>"
      ]
     },
     "metadata": {
      "needs_background": "light"
     },
     "output_type": "display_data"
    }
   ],
   "source": [
    "# 画出cost图像\n",
    "fig, ax = plt.subplots(figsize=(8, 4))\n",
    "ax.plot(np.arange(iteration), cost2, 'r')\n",
    "ax.set_xlabel('Iterations')\n",
    "ax.set_ylabel('Cost')\n",
    "ax.set_title('Error vs Training Epoch')\n",
    "plt.show()"
   ]
  },
  {
   "cell_type": "code",
   "execution_count": null,
   "id": "6c44b484",
   "metadata": {},
   "outputs": [],
   "source": []
  },
  {
   "cell_type": "code",
   "execution_count": null,
   "id": "baef44d2",
   "metadata": {},
   "outputs": [],
   "source": []
  },
  {
   "cell_type": "code",
   "execution_count": null,
   "id": "c914d831",
   "metadata": {},
   "outputs": [],
   "source": []
  },
  {
   "cell_type": "code",
   "execution_count": null,
   "id": "c8eeac40",
   "metadata": {},
   "outputs": [],
   "source": []
  }
 ],
 "metadata": {
  "kernelspec": {
   "display_name": "Python 3",
   "language": "python",
   "name": "python3"
  },
  "language_info": {
   "codemirror_mode": {
    "name": "ipython",
    "version": 3
   },
   "file_extension": ".py",
   "mimetype": "text/x-python",
   "name": "python",
   "nbconvert_exporter": "python",
   "pygments_lexer": "ipython3",
   "version": "3.8.8"
  }
 },
 "nbformat": 4,
 "nbformat_minor": 5
}
