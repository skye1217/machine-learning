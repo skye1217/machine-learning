{
 "cells": [
  {
   "cell_type": "code",
   "execution_count": 1,
   "id": "96139a51",
   "metadata": {},
   "outputs": [],
   "source": [
    "import numpy as np\n",
    "import pandas as pd\n",
    "import matplotlib.pyplot as plt\n",
    "import scipy.optimize as opt\n",
    "from sklearn.metrics import classification_report#这个包是评价报告"
   ]
  },
  {
   "cell_type": "markdown",
   "id": "c78dccef",
   "metadata": {},
   "source": [
    "## 2. logistic_regression（逻辑回归）"
   ]
  },
  {
   "cell_type": "code",
   "execution_count": 3,
   "id": "b85aa824",
   "metadata": {},
   "outputs": [
    {
     "data": {
      "text/html": [
       "<div>\n",
       "<style scoped>\n",
       "    .dataframe tbody tr th:only-of-type {\n",
       "        vertical-align: middle;\n",
       "    }\n",
       "\n",
       "    .dataframe tbody tr th {\n",
       "        vertical-align: top;\n",
       "    }\n",
       "\n",
       "    .dataframe thead th {\n",
       "        text-align: right;\n",
       "    }\n",
       "</style>\n",
       "<table border=\"1\" class=\"dataframe\">\n",
       "  <thead>\n",
       "    <tr style=\"text-align: right;\">\n",
       "      <th></th>\n",
       "      <th>x0</th>\n",
       "      <th>Exam1</th>\n",
       "      <th>Exam2</th>\n",
       "      <th>Admitted_or_not</th>\n",
       "    </tr>\n",
       "  </thead>\n",
       "  <tbody>\n",
       "    <tr>\n",
       "      <th>0</th>\n",
       "      <td>1</td>\n",
       "      <td>34.623660</td>\n",
       "      <td>78.024693</td>\n",
       "      <td>0</td>\n",
       "    </tr>\n",
       "    <tr>\n",
       "      <th>1</th>\n",
       "      <td>1</td>\n",
       "      <td>30.286711</td>\n",
       "      <td>43.894998</td>\n",
       "      <td>0</td>\n",
       "    </tr>\n",
       "    <tr>\n",
       "      <th>2</th>\n",
       "      <td>1</td>\n",
       "      <td>35.847409</td>\n",
       "      <td>72.902198</td>\n",
       "      <td>0</td>\n",
       "    </tr>\n",
       "    <tr>\n",
       "      <th>3</th>\n",
       "      <td>1</td>\n",
       "      <td>60.182599</td>\n",
       "      <td>86.308552</td>\n",
       "      <td>1</td>\n",
       "    </tr>\n",
       "    <tr>\n",
       "      <th>4</th>\n",
       "      <td>1</td>\n",
       "      <td>79.032736</td>\n",
       "      <td>75.344376</td>\n",
       "      <td>1</td>\n",
       "    </tr>\n",
       "  </tbody>\n",
       "</table>\n",
       "</div>"
      ],
      "text/plain": [
       "   x0      Exam1      Exam2  Admitted_or_not\n",
       "0   1  34.623660  78.024693                0\n",
       "1   1  30.286711  43.894998                0\n",
       "2   1  35.847409  72.902198                0\n",
       "3   1  60.182599  86.308552                1\n",
       "4   1  79.032736  75.344376                1"
      ]
     },
     "execution_count": 3,
     "metadata": {},
     "output_type": "execute_result"
    }
   ],
   "source": [
    "data_1=pd.read_csv('/Users/yangguangqiang/Music/career-2021/ML-startup/吴恩达/ML-homework-main/ex2-logistic regression/ex2data1.txt'\n",
    "                   ,header=None, names=['Exam1', 'Exam2','Admitted_or_not'])\n",
    "data_1.insert(0, 'x0', 1)\n",
    "data_1.head()"
   ]
  },
  {
   "cell_type": "code",
   "execution_count": 11,
   "id": "6d7fc953",
   "metadata": {},
   "outputs": [
    {
     "data": {
      "image/png": "[encoded data removed]",
      "text/plain": [
       "<Figure size 576x288 with 1 Axes>"
      ]
     },
     "metadata": {
      "needs_background": "light"
     },
     "output_type": "display_data"
    }
   ],
   "source": [
    "## plot scatter\n",
    "positive = data_1[data_1['Admitted_or_not'].isin([1])]  #分类，一类数据放到一起\n",
    "negative = data_1[data_1['Admitted_or_not'].isin([0])]\n",
    "\n",
    "fig, ax = plt.subplots(figsize=(8, 4))\n",
    "ax.scatter(positive['Exam1'], positive['Exam2'], s=50, c='b', marker='o', label='Admitted')\n",
    "ax.scatter(negative['Exam1'], negative['Exam2'], s=50, c='r', marker='x', label='Not Admitted')\n",
    "ax.legend()\n",
    "ax.set_xlabel('Exam1 Score')\n",
    "ax.set_ylabel('Exam2 Score')\n",
    "plt.show()"
   ]
  },
  {
   "cell_type": "code",
   "execution_count": 4,
   "id": "e2ab10ad",
   "metadata": {},
   "outputs": [],
   "source": [
    "# 定义代价函数 和 sigmoid 函数\n",
    "def sigmoid(z):\n",
    "    return 1 / (1 + np.exp(-z))\n",
    "def cost(theta, X, Y):\n",
    "    first = Y * np.log(sigmoid(X@theta.T))\n",
    "    second = (1 - Y) * np.log(1 - sigmoid(X@theta.T))\n",
    "    return -1 * np.mean(first + second)\n",
    "def gradient(theta, X, Y):\n",
    "    return (1/len(X) * X.T @ (sigmoid(X @ theta.T) - Y)) #下降一步的值"
   ]
  },
  {
   "cell_type": "code",
   "execution_count": 5,
   "id": "3d1a3988",
   "metadata": {},
   "outputs": [
    {
     "name": "stdout",
     "output_type": "stream",
     "text": [
      "(array([-25.16131856,   0.20623159,   0.20147149]), 36, 0)\n"
     ]
    },
    {
     "data": {
      "text/plain": [
       "     fun: 0.20349770426553998\n",
       "     jac: array([-2.85342794e-06, -3.50853296e-05, -1.62061639e-04])\n",
       " message: 'Optimization terminated successfully.'\n",
       "    nfev: 71\n",
       "    nhev: 0\n",
       "     nit: 27\n",
       "    njev: 178\n",
       "  status: 0\n",
       " success: True\n",
       "       x: array([-25.16557602,   0.20626565,   0.20150593])"
      ]
     },
     "execution_count": 5,
     "metadata": {},
     "output_type": "execute_result"
    }
   ],
   "source": [
    "# set X(training data) and Y(target variable)\n",
    "X = data_1.iloc[:, 0: -1].values\n",
    "Y = data_1.iloc[:, -1].values\n",
    "theta = np.zeros(3)\n",
    "result = opt.fmin_tnc(func=cost, x0=theta,fprime=gradient, args=(X, Y)) #运用优化算法求出theta，而不是梯度下降\n",
    "print(result)  #得到 theta0,theta1,theta2\n",
    "res = opt.minimize(fun=cost, x0=np.array(theta), args=(X, np.array(Y)), method='Newton-CG', jac=gradient)\n",
    "res"
   ]
  },
  {
   "cell_type": "code",
   "execution_count": 8,
   "id": "6f5ab464",
   "metadata": {},
   "outputs": [],
   "source": [
    "# 计算准确率和错误率，可以用 test dataset 来算\n",
    "def predict(theta,X):\n",
    "    probability=sigmoid(X @ theta.T)\n",
    "    return [1 if x>=0.5 else 0 for x in probability]  #threshold 设置为0.5"
   ]
  },
  {
   "cell_type": "code",
   "execution_count": 9,
   "id": "15341de8",
   "metadata": {},
   "outputs": [
    {
     "name": "stdout",
     "output_type": "stream",
     "text": [
      "              precision    recall  f1-score   support\n",
      "\n",
      "           0       0.87      0.85      0.86        40\n",
      "           1       0.90      0.92      0.91        60\n",
      "\n",
      "    accuracy                           0.89       100\n",
      "   macro avg       0.89      0.88      0.88       100\n",
      "weighted avg       0.89      0.89      0.89       100\n",
      "\n"
     ]
    }
   ],
   "source": [
    "theta_result=np.matrix(result[0])\n",
    "predictions=predict(theta_result,X)\n",
    "print(classification_report(Y, predictions))"
   ]
  },
  {
   "cell_type": "markdown",
   "id": "641a2826",
   "metadata": {},
   "source": [
    "# 决策边界： x2=-(theta0/theta2)x0-(theta1/theta2)x1"
   ]
  },
  {
   "cell_type": "code",
   "execution_count": 12,
   "id": "c0f315b7",
   "metadata": {},
   "outputs": [
    {
     "data": {
      "image/png": "[encoded data removed]",
      "text/plain": [
       "<Figure size 576x288 with 1 Axes>"
      ]
     },
     "metadata": {
      "needs_background": "light"
     },
     "output_type": "display_data"
    }
   ],
   "source": [
    "coef = -res.x / res.x[2]  # x2方程，就是决策边界\n",
    "x = np.arange(30, 100, 0.5)\n",
    "y = coef[0] + coef[1] * x\n",
    "\n",
    "fig, ax = plt.subplots(figsize=(8, 4))\n",
    "ax.scatter(positive['Exam1'], positive['Exam2'], s=50, c='b', marker='o', label='Admitted')\n",
    "ax.scatter(negative['Exam1'], negative['Exam2'], s=50, c='r', marker='x', label='Not Admitted')\n",
    "ax.plot(x, y, label='Decision Boundary', c='grey')\n",
    "ax.legend()\n",
    "ax.set_xlabel('Exam1 Score')\n",
    "ax.set_ylabel('Exam2 Score')\n",
    "plt.show()"
   ]
  },
  {
   "cell_type": "markdown",
   "id": "9cd6362f",
   "metadata": {},
   "source": [
    "## 3. 正则化逻辑回归"
   ]
  },
  {
   "cell_type": "code",
   "execution_count": 2,
   "id": "567e7b97",
   "metadata": {},
   "outputs": [
    {
     "data": {
      "text/html": [
       "<div>\n",
       "<style scoped>\n",
       "    .dataframe tbody tr th:only-of-type {\n",
       "        vertical-align: middle;\n",
       "    }\n",
       "\n",
       "    .dataframe tbody tr th {\n",
       "        vertical-align: top;\n",
       "    }\n",
       "\n",
       "    .dataframe thead th {\n",
       "        text-align: right;\n",
       "    }\n",
       "</style>\n",
       "<table border=\"1\" class=\"dataframe\">\n",
       "  <thead>\n",
       "    <tr style=\"text-align: right;\">\n",
       "      <th></th>\n",
       "      <th>Test1</th>\n",
       "      <th>Test2</th>\n",
       "      <th>Accept_or_not</th>\n",
       "    </tr>\n",
       "  </thead>\n",
       "  <tbody>\n",
       "    <tr>\n",
       "      <th>0</th>\n",
       "      <td>0.051267</td>\n",
       "      <td>0.69956</td>\n",
       "      <td>1</td>\n",
       "    </tr>\n",
       "    <tr>\n",
       "      <th>1</th>\n",
       "      <td>-0.092742</td>\n",
       "      <td>0.68494</td>\n",
       "      <td>1</td>\n",
       "    </tr>\n",
       "    <tr>\n",
       "      <th>2</th>\n",
       "      <td>-0.213710</td>\n",
       "      <td>0.69225</td>\n",
       "      <td>1</td>\n",
       "    </tr>\n",
       "    <tr>\n",
       "      <th>3</th>\n",
       "      <td>-0.375000</td>\n",
       "      <td>0.50219</td>\n",
       "      <td>1</td>\n",
       "    </tr>\n",
       "    <tr>\n",
       "      <th>4</th>\n",
       "      <td>-0.513250</td>\n",
       "      <td>0.46564</td>\n",
       "      <td>1</td>\n",
       "    </tr>\n",
       "  </tbody>\n",
       "</table>\n",
       "</div>"
      ],
      "text/plain": [
       "      Test1    Test2  Accept_or_not\n",
       "0  0.051267  0.69956              1\n",
       "1 -0.092742  0.68494              1\n",
       "2 -0.213710  0.69225              1\n",
       "3 -0.375000  0.50219              1\n",
       "4 -0.513250  0.46564              1"
      ]
     },
     "execution_count": 2,
     "metadata": {},
     "output_type": "execute_result"
    }
   ],
   "source": [
    "data_2=pd.read_csv('/Users/yangguangqiang/Music/career-2021/ML-startup/吴恩达/ML-homework-main/ex2-logistic regression/ex2data2.txt'\n",
    "                   ,header=None, names=['Test1', 'Test2','Accept_or_not'])\n",
    "data_2.head()"
   ]
  },
  {
   "cell_type": "code",
   "execution_count": 3,
   "id": "63f69f56",
   "metadata": {},
   "outputs": [
    {
     "data": {
      "image/png": "[encoded data removed]",
      "text/plain": [
       "<Figure size 432x432 with 1 Axes>"
      ]
     },
     "metadata": {
      "needs_background": "light"
     },
     "output_type": "display_data"
    }
   ],
   "source": [
    "## plot scatter\n",
    "positive = data_2[data_2['Accept_or_not'].isin([1])]  #分类，一类数据放到一起\n",
    "negative = data_2[data_2['Accept_or_not'].isin([0])]\n",
    "\n",
    "fig, ax = plt.subplots(figsize=(6, 6))\n",
    "ax.scatter(positive['Test1'], positive['Test2'], s=50, c='b', marker='o', label='Accept')\n",
    "ax.scatter(negative['Test1'], negative['Test2'], s=50, c='r', marker='x', label='Reject')\n",
    "ax.legend()\n",
    "ax.set_xlabel('Test1 Score')\n",
    "ax.set_ylabel('Test2 Score')\n",
    "plt.show()"
   ]
  },
  {
   "cell_type": "code",
   "execution_count": 3,
   "id": "8cfe4065",
   "metadata": {},
   "outputs": [],
   "source": [
    "## 处理数据，最高6次方，通过正则化消除过度拟合\n",
    "def feature_mapping(x, y, power, as_ndarray=False):\n",
    "    data = {'f{0}{1}'.format(i-p, p): np.power(x, i-p) * np.power(y, p)\n",
    "                for i in range(0, power+1)\n",
    "                for p in range(0, i+1) }\n",
    "    if as_ndarray:\n",
    "        return pd.DataFrame(data).values  #取出 value ，方便计算\n",
    "    else:\n",
    "        return pd.DataFrame(data)  #保留 df ,方便可视化"
   ]
  },
  {
   "cell_type": "code",
   "execution_count": 4,
   "id": "470be0e6",
   "metadata": {},
   "outputs": [
    {
     "name": "stdout",
     "output_type": "stream",
     "text": [
      "(118, 28)\n"
     ]
    },
    {
     "data": {
      "text/html": [
       "<div>\n",
       "<style scoped>\n",
       "    .dataframe tbody tr th:only-of-type {\n",
       "        vertical-align: middle;\n",
       "    }\n",
       "\n",
       "    .dataframe tbody tr th {\n",
       "        vertical-align: top;\n",
       "    }\n",
       "\n",
       "    .dataframe thead th {\n",
       "        text-align: right;\n",
       "    }\n",
       "</style>\n",
       "<table border=\"1\" class=\"dataframe\">\n",
       "  <thead>\n",
       "    <tr style=\"text-align: right;\">\n",
       "      <th></th>\n",
       "      <th>f00</th>\n",
       "      <th>f10</th>\n",
       "      <th>f01</th>\n",
       "      <th>f20</th>\n",
       "      <th>f11</th>\n",
       "      <th>f02</th>\n",
       "      <th>f30</th>\n",
       "      <th>f21</th>\n",
       "      <th>f12</th>\n",
       "      <th>f03</th>\n",
       "      <th>...</th>\n",
       "      <th>f23</th>\n",
       "      <th>f14</th>\n",
       "      <th>f05</th>\n",
       "      <th>f60</th>\n",
       "      <th>f51</th>\n",
       "      <th>f42</th>\n",
       "      <th>f33</th>\n",
       "      <th>f24</th>\n",
       "      <th>f15</th>\n",
       "      <th>f06</th>\n",
       "    </tr>\n",
       "  </thead>\n",
       "  <tbody>\n",
       "    <tr>\n",
       "      <th>0</th>\n",
       "      <td>1.0</td>\n",
       "      <td>0.051267</td>\n",
       "      <td>0.69956</td>\n",
       "      <td>0.002628</td>\n",
       "      <td>0.035864</td>\n",
       "      <td>0.489384</td>\n",
       "      <td>0.000135</td>\n",
       "      <td>0.001839</td>\n",
       "      <td>0.025089</td>\n",
       "      <td>0.342354</td>\n",
       "      <td>...</td>\n",
       "      <td>0.000900</td>\n",
       "      <td>0.012278</td>\n",
       "      <td>0.167542</td>\n",
       "      <td>1.815630e-08</td>\n",
       "      <td>2.477505e-07</td>\n",
       "      <td>0.000003</td>\n",
       "      <td>0.000046</td>\n",
       "      <td>0.000629</td>\n",
       "      <td>0.008589</td>\n",
       "      <td>0.117206</td>\n",
       "    </tr>\n",
       "    <tr>\n",
       "      <th>1</th>\n",
       "      <td>1.0</td>\n",
       "      <td>-0.092742</td>\n",
       "      <td>0.68494</td>\n",
       "      <td>0.008601</td>\n",
       "      <td>-0.063523</td>\n",
       "      <td>0.469143</td>\n",
       "      <td>-0.000798</td>\n",
       "      <td>0.005891</td>\n",
       "      <td>-0.043509</td>\n",
       "      <td>0.321335</td>\n",
       "      <td>...</td>\n",
       "      <td>0.002764</td>\n",
       "      <td>-0.020412</td>\n",
       "      <td>0.150752</td>\n",
       "      <td>6.362953e-07</td>\n",
       "      <td>-4.699318e-06</td>\n",
       "      <td>0.000035</td>\n",
       "      <td>-0.000256</td>\n",
       "      <td>0.001893</td>\n",
       "      <td>-0.013981</td>\n",
       "      <td>0.103256</td>\n",
       "    </tr>\n",
       "    <tr>\n",
       "      <th>2</th>\n",
       "      <td>1.0</td>\n",
       "      <td>-0.213710</td>\n",
       "      <td>0.69225</td>\n",
       "      <td>0.045672</td>\n",
       "      <td>-0.147941</td>\n",
       "      <td>0.479210</td>\n",
       "      <td>-0.009761</td>\n",
       "      <td>0.031616</td>\n",
       "      <td>-0.102412</td>\n",
       "      <td>0.331733</td>\n",
       "      <td>...</td>\n",
       "      <td>0.015151</td>\n",
       "      <td>-0.049077</td>\n",
       "      <td>0.158970</td>\n",
       "      <td>9.526844e-05</td>\n",
       "      <td>-3.085938e-04</td>\n",
       "      <td>0.001000</td>\n",
       "      <td>-0.003238</td>\n",
       "      <td>0.010488</td>\n",
       "      <td>-0.033973</td>\n",
       "      <td>0.110047</td>\n",
       "    </tr>\n",
       "    <tr>\n",
       "      <th>3</th>\n",
       "      <td>1.0</td>\n",
       "      <td>-0.375000</td>\n",
       "      <td>0.50219</td>\n",
       "      <td>0.140625</td>\n",
       "      <td>-0.188321</td>\n",
       "      <td>0.252195</td>\n",
       "      <td>-0.052734</td>\n",
       "      <td>0.070620</td>\n",
       "      <td>-0.094573</td>\n",
       "      <td>0.126650</td>\n",
       "      <td>...</td>\n",
       "      <td>0.017810</td>\n",
       "      <td>-0.023851</td>\n",
       "      <td>0.031940</td>\n",
       "      <td>2.780914e-03</td>\n",
       "      <td>-3.724126e-03</td>\n",
       "      <td>0.004987</td>\n",
       "      <td>-0.006679</td>\n",
       "      <td>0.008944</td>\n",
       "      <td>-0.011978</td>\n",
       "      <td>0.016040</td>\n",
       "    </tr>\n",
       "    <tr>\n",
       "      <th>4</th>\n",
       "      <td>1.0</td>\n",
       "      <td>-0.513250</td>\n",
       "      <td>0.46564</td>\n",
       "      <td>0.263426</td>\n",
       "      <td>-0.238990</td>\n",
       "      <td>0.216821</td>\n",
       "      <td>-0.135203</td>\n",
       "      <td>0.122661</td>\n",
       "      <td>-0.111283</td>\n",
       "      <td>0.100960</td>\n",
       "      <td>...</td>\n",
       "      <td>0.026596</td>\n",
       "      <td>-0.024128</td>\n",
       "      <td>0.021890</td>\n",
       "      <td>1.827990e-02</td>\n",
       "      <td>-1.658422e-02</td>\n",
       "      <td>0.015046</td>\n",
       "      <td>-0.013650</td>\n",
       "      <td>0.012384</td>\n",
       "      <td>-0.011235</td>\n",
       "      <td>0.010193</td>\n",
       "    </tr>\n",
       "  </tbody>\n",
       "</table>\n",
       "<p>5 rows × 28 columns</p>\n",
       "</div>"
      ],
      "text/plain": [
       "   f00       f10      f01       f20       f11       f02       f30       f21  \\\n",
       "0  1.0  0.051267  0.69956  0.002628  0.035864  0.489384  0.000135  0.001839   \n",
       "1  1.0 -0.092742  0.68494  0.008601 -0.063523  0.469143 -0.000798  0.005891   \n",
       "2  1.0 -0.213710  0.69225  0.045672 -0.147941  0.479210 -0.009761  0.031616   \n",
       "3  1.0 -0.375000  0.50219  0.140625 -0.188321  0.252195 -0.052734  0.070620   \n",
       "4  1.0 -0.513250  0.46564  0.263426 -0.238990  0.216821 -0.135203  0.122661   \n",
       "\n",
       "        f12       f03  ...       f23       f14       f05           f60  \\\n",
       "0  0.025089  0.342354  ...  0.000900  0.012278  0.167542  1.815630e-08   \n",
       "1 -0.043509  0.321335  ...  0.002764 -0.020412  0.150752  6.362953e-07   \n",
       "2 -0.102412  0.331733  ...  0.015151 -0.049077  0.158970  9.526844e-05   \n",
       "3 -0.094573  0.126650  ...  0.017810 -0.023851  0.031940  2.780914e-03   \n",
       "4 -0.111283  0.100960  ...  0.026596 -0.024128  0.021890  1.827990e-02   \n",
       "\n",
       "            f51       f42       f33       f24       f15       f06  \n",
       "0  2.477505e-07  0.000003  0.000046  0.000629  0.008589  0.117206  \n",
       "1 -4.699318e-06  0.000035 -0.000256  0.001893 -0.013981  0.103256  \n",
       "2 -3.085938e-04  0.001000 -0.003238  0.010488 -0.033973  0.110047  \n",
       "3 -3.724126e-03  0.004987 -0.006679  0.008944 -0.011978  0.016040  \n",
       "4 -1.658422e-02  0.015046 -0.013650  0.012384 -0.011235  0.010193  \n",
       "\n",
       "[5 rows x 28 columns]"
      ]
     },
     "execution_count": 4,
     "metadata": {},
     "output_type": "execute_result"
    }
   ],
   "source": [
    "X1 = np.array(data_2.Test1)\n",
    "X2 = np.array(data_2.Test2)\n",
    "data_map = feature_mapping(X1, X2, power=6)\n",
    "print(data_map.shape)\n",
    "data_map.head()"
   ]
  },
  {
   "cell_type": "code",
   "execution_count": 21,
   "id": "4e630eb7",
   "metadata": {},
   "outputs": [],
   "source": [
    "def sigmoid(z):\n",
    "    return 1 / (1 + np.exp(-z))"
   ]
  },
  {
   "cell_type": "code",
   "execution_count": 22,
   "id": "e8583aa6",
   "metadata": {},
   "outputs": [],
   "source": [
    "def cost(theta, X, Y):\n",
    "    first = Y * np.log(sigmoid(X@theta.T))\n",
    "    second = (1 - Y) * np.log(1 - sigmoid(X@theta.T))\n",
    "    return -1 * np.mean(first + second)\n",
    "def regularize_cost(theta, X, Y,fi=1):\n",
    "    theta_1 = theta[1:]\n",
    "    first = Y * np.log(sigmoid(X@theta.T))\n",
    "    second = (1 - Y) * np.log(1 - sigmoid(X@theta.T))\n",
    "    third=fi*np.power(theta_1,2).sum()/(2*len(X))\n",
    "    return -1 * np.mean(first + second)+third"
   ]
  },
  {
   "cell_type": "code",
   "execution_count": 23,
   "id": "53270248",
   "metadata": {},
   "outputs": [],
   "source": [
    "def gradient(theta, X, Y):\n",
    "    return (1/len(X) * X.T @ (sigmoid(X @ theta.T) - Y)) #下降一步的值\n",
    "def regularize_gradient(theta, X, Y,fi=1):\n",
    "    theta_1= theta[1:]\n",
    "    regularize_num= fi/len(X) * theta_1\n",
    "    regularized_term = np.concatenate([np.array([0]), regularize_num]) # theta0 不加\n",
    "    \n",
    "    return  gradient(theta, X, Y) + regularized_term #矩阵加法，每一项加一个"
   ]
  },
  {
   "cell_type": "code",
   "execution_count": 10,
   "id": "d232dd69",
   "metadata": {},
   "outputs": [
    {
     "name": "stdout",
     "output_type": "stream",
     "text": [
      "(array([ 1.27271026,  0.62529965,  1.18111686, -2.01987399, -0.91743189,\n",
      "       -1.43166929,  0.12393227, -0.36553118, -0.35725404, -0.17516292,\n",
      "       -1.45817009, -0.05098418, -0.61558555, -0.27469165, -1.19271298,\n",
      "       -0.24217841, -0.206033  , -0.04466178, -0.27778949, -0.29539513,\n",
      "       -0.45645981, -1.04319154,  0.02779373, -0.29244868,  0.0155576 ,\n",
      "       -0.32742405, -0.1438915 , -0.92467487]), 32, 1)\n"
     ]
    },
    {
     "data": {
      "text/plain": [
       "     fun: 0.5290027297128722\n",
       "     jac: array([ 4.64317436e-08,  1.04331373e-08, -3.61802419e-08, -3.44397841e-08,\n",
       "        2.46408233e-08,  1.12246256e-08, -5.13021764e-09, -1.11582358e-08,\n",
       "        1.23402171e-09,  2.62428040e-08, -3.94916642e-08,  5.21264511e-09,\n",
       "       -8.98645551e-09,  1.04022216e-08,  3.24793498e-08, -5.20025250e-09,\n",
       "       -5.87238749e-09,  7.46797548e-10, -4.52162093e-09, -1.47871366e-09,\n",
       "        1.80405423e-08, -1.62958045e-08,  7.26901438e-10, -5.53694209e-09,\n",
       "        3.57089897e-09, -3.35135784e-09,  5.51302048e-09,  2.59989451e-08])\n",
       " message: 'Optimization terminated successfully.'\n",
       "    nfev: 7\n",
       "    nhev: 0\n",
       "     nit: 6\n",
       "    njev: 55\n",
       "  status: 0\n",
       " success: True\n",
       "       x: array([ 1.27274054,  0.62527229,  1.18108684, -2.01996217, -0.91742229,\n",
       "       -1.43166588,  0.1240061 , -0.36553467, -0.35724013, -0.1751284 ,\n",
       "       -1.45815894, -0.050989  , -0.61555564, -0.27470555, -1.192815  ,\n",
       "       -0.24218818, -0.20600633, -0.04473079, -0.27778484, -0.29537856,\n",
       "       -0.45635706, -1.04320283,  0.02777156, -0.29243164,  0.01556705,\n",
       "       -0.3273799 , -0.14388646, -0.92465161])"
      ]
     },
     "execution_count": 10,
     "metadata": {},
     "output_type": "execute_result"
    }
   ],
   "source": [
    "Y_2 = data_2['Accept_or_not']\n",
    "theta2 = np.zeros(data_map.shape[1])\n",
    "X_2 = feature_mapping(X1, X2, power=6, as_ndarray=True)\n",
    "result2 = opt.fmin_tnc(func=regularize_cost, x0=theta2,fprime=regularize_gradient, args=(X_2, Y_2)) #运用优化算法求出theta，而不是梯度下降\n",
    "print(result2)  #得到 theta0,theta1,theta2\n",
    "res2 = opt.minimize(fun=regularize_cost, x0=np.array(theta2), args=(X_2, np.array(Y_2)), method='Newton-CG', jac=regularize_gradient)\n",
    "res2"
   ]
  },
  {
   "cell_type": "code",
   "execution_count": 12,
   "id": "d0456092",
   "metadata": {},
   "outputs": [
    {
     "name": "stdout",
     "output_type": "stream",
     "text": [
      "              precision    recall  f1-score   support\n",
      "\n",
      "           0       0.90      0.75      0.82        60\n",
      "           1       0.78      0.91      0.84        58\n",
      "\n",
      "    accuracy                           0.83       118\n",
      "   macro avg       0.84      0.83      0.83       118\n",
      "weighted avg       0.84      0.83      0.83       118\n",
      "\n"
     ]
    }
   ],
   "source": [
    "def predict(theta,X):\n",
    "    probability=sigmoid(X @ theta.T)\n",
    "    return [1 if x>=0.5 else 0 for x in probability]  #threshold 设置为0.5\n",
    "\n",
    "theta_result_2=np.matrix(result2[0])\n",
    "predictions_2=predict(theta_result_2,X_2) #把得到的theta放入\n",
    "print(classification_report(Y_2, predictions_2))"
   ]
  },
  {
   "cell_type": "code",
   "execution_count": null,
   "id": "055522e6",
   "metadata": {},
   "outputs": [],
   "source": []
  },
  {
   "cell_type": "code",
   "execution_count": null,
   "id": "fb1081d7",
   "metadata": {},
   "outputs": [],
   "source": []
  }
 ],
 "metadata": {
  "kernelspec": {
   "display_name": "Python 3",
   "language": "python",
   "name": "python3"
  },
  "language_info": {
   "codemirror_mode": {
    "name": "ipython",
    "version": 3
   },
   "file_extension": ".py",
   "mimetype": "text/x-python",
   "name": "python",
   "nbconvert_exporter": "python",
   "pygments_lexer": "ipython3",
   "version": "3.8.8"
  }
 },
 "nbformat": 4,
 "nbformat_minor": 5
}
