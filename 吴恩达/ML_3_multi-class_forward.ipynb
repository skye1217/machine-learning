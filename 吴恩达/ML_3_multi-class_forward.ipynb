{
 "cells": [
  {
   "cell_type": "code",
   "execution_count": 1,
   "id": "681cb745",
   "metadata": {},
   "outputs": [],
   "source": [
    "import numpy as np\n",
    "import pandas as pd\n",
    "import scipy.io as sio\n",
    "import scipy.optimize as opt\n",
    "from sklearn.metrics import classification_report#这个包是评价报告\n",
    "import matplotlib.pyplot as plt\n",
    "import matplotlib"
   ]
  },
  {
   "cell_type": "markdown",
   "id": "f0418814",
   "metadata": {},
   "source": [
    "## 1. Multi-class Classification"
   ]
  },
  {
   "cell_type": "code",
   "execution_count": 2,
   "id": "2d189e9b",
   "metadata": {},
   "outputs": [
    {
     "name": "stdout",
     "output_type": "stream",
     "text": [
      "(5000, 400)\n",
      "(5000, 1)\n"
     ]
    }
   ],
   "source": [
    "data_1=sio.loadmat('/Users/yangguangqiang/Music/career-2021/ML-startup/吴恩达/ML-homework-main/ex3-neural network/ex3data1.mat')\n",
    "data_x=data_1[\"X\"]\n",
    "data_y=data_1[\"y\"]\n",
    "print(data_x.shape) # 5000个训练示例；每一张图是一个 20X20 的矩阵  \n",
    "print(data_y.shape) #Y: 5000-dimensional vector 记录所有图片的分类"
   ]
  },
  {
   "cell_type": "code",
   "execution_count": 18,
   "id": "1766463e",
   "metadata": {},
   "outputs": [
    {
     "data": {
      "image/png": "[encoded data removed]",
      "text/plain": [
       "<Figure size 72x72 with 1 Axes>"
      ]
     },
     "metadata": {},
     "output_type": "display_data"
    },
    {
     "name": "stdout",
     "output_type": "stream",
     "text": [
      "this should be [10]\n"
     ]
    }
   ],
   "source": [
    "### visualize picture\n",
    "def plot_an_image(image):\n",
    "    fig, ax = plt.subplots(figsize=(1, 1))\n",
    "    ax.matshow(image.reshape((20,20)), cmap=matplotlib.cm.binary) # 20X20 的 mat\n",
    "    plt.xticks(np.array([]))  # get rid of ticks\n",
    "    plt.yticks(np.array([]))\n",
    "    plt.show()\n",
    "plot_an_image(data_x[369, :])\n",
    "print('this should be {}'.format(data_y[369]))"
   ]
  },
  {
   "cell_type": "code",
   "execution_count": null,
   "id": "448b842a",
   "metadata": {},
   "outputs": [],
   "source": [
    "# define sigmoid-cost-gradient function (the same as HW2)"
   ]
  },
  {
   "cell_type": "code",
   "execution_count": 3,
   "id": "fb4175e2",
   "metadata": {},
   "outputs": [],
   "source": [
    "def sigmoid(z):\n",
    "    return 1 / (1 + np.exp(-z))"
   ]
  },
  {
   "cell_type": "code",
   "execution_count": 4,
   "id": "af37da76",
   "metadata": {},
   "outputs": [],
   "source": [
    "def regularize_cost(theta, X, Y,fi=1):\n",
    "    theta_1 = theta[1:]\n",
    "    first = Y * np.log(sigmoid(X@theta.T))\n",
    "    second = (1 - Y) * np.log(1 - sigmoid(X@theta.T))\n",
    "    third=fi*np.power(theta_1,2).sum()/(2*len(X))\n",
    "    return -1 * np.mean(first + second)+third"
   ]
  },
  {
   "cell_type": "code",
   "execution_count": 5,
   "id": "a962a179",
   "metadata": {},
   "outputs": [],
   "source": [
    "def regularize_gradient(theta, X, Y,fi=1):\n",
    "    theta_1= theta[1:]\n",
    "    regularize_num= fi/len(X) * theta_1\n",
    "    regularized_term = np.concatenate([np.array([0]), regularize_num]) # theta0 不加\n",
    "    \n",
    "    return  (1/len(X) * X.T @ (sigmoid(X @ theta.T) - Y)) + regularized_term #矩阵加法，每一项加一个"
   ]
  },
  {
   "cell_type": "code",
   "execution_count": 6,
   "id": "284d8878",
   "metadata": {},
   "outputs": [],
   "source": [
    "def opti_gradient(X, Y,fi=1):\n",
    "    \n",
    "    theta=np.zeros(X.shape[1])\n",
    "    optimized_result=opt.minimize(fun=regularize_cost, x0=np.array(theta), \n",
    "                                  args=(X, np.array(Y)), method='TNC', jac=regularize_gradient)\n",
    "    return optimized_result.x"
   ]
  },
  {
   "cell_type": "code",
   "execution_count": 7,
   "id": "ee30e93c",
   "metadata": {},
   "outputs": [],
   "source": [
    "def predict(theta,X):\n",
    "    probability=sigmoid(X @ theta.T)\n",
    "    return [1 if x>=0.5 else 0 for x in probability]  #threshold 设置为0.5"
   ]
  },
  {
   "cell_type": "code",
   "execution_count": 8,
   "id": "2ac94f2b",
   "metadata": {},
   "outputs": [],
   "source": [
    "# process data, X+X0=1 ; Y convert to (10,5000)"
   ]
  },
  {
   "cell_type": "code",
   "execution_count": 9,
   "id": "475a020e",
   "metadata": {},
   "outputs": [
    {
     "name": "stdout",
     "output_type": "stream",
     "text": [
      "(5000, 401)\n",
      "(10, 5000)\n"
     ]
    }
   ],
   "source": [
    "X=np.insert(data_x, 0, values=1, axis=1)\n",
    "Y=np.zeros([10,5000])\n",
    "for f in range(len(data_y)):\n",
    "    if data_y[f][0]==10:  \n",
    "        Y[0][f]=1\n",
    "    else:\n",
    "        Y[data_y[f][0]][f]=1\n",
    "print(X.shape)\n",
    "print(Y.shape)"
   ]
  },
  {
   "cell_type": "code",
   "execution_count": 10,
   "id": "a4e58a19",
   "metadata": {},
   "outputs": [],
   "source": [
    "## 当只有1类时，取Y[0]"
   ]
  },
  {
   "cell_type": "code",
   "execution_count": 11,
   "id": "ff0e2444",
   "metadata": {},
   "outputs": [
    {
     "name": "stdout",
     "output_type": "stream",
     "text": [
      "              precision    recall  f1-score   support\n",
      "\n",
      "         0.0       1.00      1.00      1.00      4500\n",
      "         1.0       0.99      0.98      0.99       500\n",
      "\n",
      "    accuracy                           1.00      5000\n",
      "   macro avg       0.99      0.99      0.99      5000\n",
      "weighted avg       1.00      1.00      1.00      5000\n",
      "\n"
     ]
    }
   ],
   "source": [
    "theta_0=opti_gradient(X, Y[0],fi=1)\n",
    "predictions_0=predict(theta_0,X)\n",
    "print(classification_report(Y[0], predictions_0))"
   ]
  },
  {
   "cell_type": "code",
   "execution_count": null,
   "id": "1d1243b4",
   "metadata": {},
   "outputs": [],
   "source": [
    "## 一共有10类"
   ]
  },
  {
   "cell_type": "code",
   "execution_count": 12,
   "id": "1b23a41f",
   "metadata": {},
   "outputs": [
    {
     "data": {
      "text/plain": [
       "(10, 401)"
      ]
     },
     "execution_count": 12,
     "metadata": {},
     "output_type": "execute_result"
    }
   ],
   "source": [
    "theta_k=np.array([opti_gradient(X, Y[k],fi=1) for k in range(10)])\n",
    "theta_k.shape"
   ]
  },
  {
   "cell_type": "code",
   "execution_count": 13,
   "id": "e35d82fb",
   "metadata": {},
   "outputs": [
    {
     "data": {
      "text/plain": [
       "(5000, 10)"
      ]
     },
     "execution_count": 13,
     "metadata": {},
     "output_type": "execute_result"
    }
   ],
   "source": [
    "prob_matrix = sigmoid(X @ theta_k.T)\n",
    "prob_matrix.shape"
   ]
  },
  {
   "cell_type": "code",
   "execution_count": 14,
   "id": "82d2ddf8",
   "metadata": {},
   "outputs": [
    {
     "data": {
      "text/plain": [
       "array([10, 10, 10, ...,  9,  9,  7])"
      ]
     },
     "execution_count": 14,
     "metadata": {},
     "output_type": "execute_result"
    }
   ],
   "source": [
    "y_pred = np.argmax(prob_matrix, axis=1) # 返回每行最大的列索引,表示取这一列的概率最大\n",
    "y_pred = np.array([10 if i == 0 else i for i in y_pred])\n",
    "y_pred"
   ]
  },
  {
   "cell_type": "code",
   "execution_count": 15,
   "id": "7f139d98",
   "metadata": {},
   "outputs": [
    {
     "name": "stdout",
     "output_type": "stream",
     "text": [
      "              precision    recall  f1-score   support\n",
      "\n",
      "           1       0.95      0.99      0.97       500\n",
      "           2       0.95      0.92      0.93       500\n",
      "           3       0.95      0.91      0.93       500\n",
      "           4       0.95      0.95      0.95       500\n",
      "           5       0.92      0.92      0.92       500\n",
      "           6       0.97      0.98      0.97       500\n",
      "           7       0.95      0.95      0.95       500\n",
      "           8       0.93      0.92      0.92       500\n",
      "           9       0.92      0.92      0.92       500\n",
      "          10       0.97      0.99      0.98       500\n",
      "\n",
      "    accuracy                           0.94      5000\n",
      "   macro avg       0.94      0.94      0.94      5000\n",
      "weighted avg       0.94      0.94      0.94      5000\n",
      "\n"
     ]
    }
   ],
   "source": [
    "print(classification_report(data_y, y_pred))"
   ]
  },
  {
   "cell_type": "markdown",
   "id": "3d4ef0f1",
   "metadata": {},
   "source": [
    "## 2.神经网络--forward 传播"
   ]
  },
  {
   "cell_type": "code",
   "execution_count": null,
   "id": "7bf326c1",
   "metadata": {},
   "outputs": [],
   "source": [
    "## 逻辑回归-不能形成更复杂的假设，只是一个线性分类器。\n",
    "## 神经网络能够表示非线性假设的复杂模型--实现前馈传播算法以使用训练出的权重进行预测"
   ]
  },
  {
   "cell_type": "code",
   "execution_count": 17,
   "id": "8a8713a0",
   "metadata": {},
   "outputs": [
    {
     "name": "stdout",
     "output_type": "stream",
     "text": [
      "(25, 401) (10, 26)\n",
      "(5000, 400) (5000, 1)\n"
     ]
    }
   ],
   "source": [
    "data_w=sio.loadmat('/Users/yangguangqiang/Music/career-2021/ML-startup/吴恩达/ML-homework-main/ex3-neural network/ex3weights.mat')\n",
    "print(data_w['Theta1'].shape,data_w['Theta2'].shape)\n",
    "data_1=sio.loadmat('/Users/yangguangqiang/Music/career-2021/ML-startup/吴恩达/ML-homework-main/ex3-neural network/ex3data1.mat')\n",
    "print(data_1[\"X\"].shape,data_1[\"y\"].shape)"
   ]
  },
  {
   "cell_type": "code",
   "execution_count": 18,
   "id": "8ef38a68",
   "metadata": {},
   "outputs": [],
   "source": [
    "X=np.insert(data_1[\"X\"], 0, values=1, axis=1)\n",
    "theta_1=data_w['Theta1'] ; theta_2=data_w['Theta2']\n",
    "a_1=X\n",
    "z_2=np.dot(X,theta_1.T)\n",
    "z_2=np.insert(z_2, 0, values=1, axis=1)\n",
    "a_2=sigmoid(z_2)"
   ]
  },
  {
   "cell_type": "code",
   "execution_count": 19,
   "id": "cbcd3d56",
   "metadata": {},
   "outputs": [
    {
     "name": "stdout",
     "output_type": "stream",
     "text": [
      "[[1.38245045e-04 2.05540079e-03 3.04012453e-03 ... 4.91017499e-04\n",
      "  7.74325818e-03 9.96229459e-01]\n",
      " [5.87756717e-04 2.85026516e-03 4.14687943e-03 ... 2.92311247e-03\n",
      "  2.35616705e-03 9.96196668e-01]\n",
      " [1.08683616e-04 3.82659802e-03 3.05855129e-02 ... 7.51453949e-02\n",
      "  6.57039547e-03 9.35862781e-01]\n",
      " ...\n",
      " [6.27824726e-02 4.50406476e-03 3.54510925e-02 ... 2.63669734e-03\n",
      "  6.89448164e-01 2.74369466e-05]\n",
      " [1.01908736e-03 7.34360211e-04 3.78558700e-04 ... 1.45616578e-02\n",
      "  9.75989758e-01 2.33374461e-04]\n",
      " [5.90807037e-05 5.41717668e-04 2.58968308e-05 ... 7.00508308e-03\n",
      "  7.32814653e-01 9.16696059e-02]]\n",
      "(5000, 10)\n"
     ]
    }
   ],
   "source": [
    "z_3=np.dot(a_2,theta_2.T)\n",
    "a_3=sigmoid(z_3)\n",
    "print(a_3)\n",
    "print(a_3.shape)"
   ]
  },
  {
   "cell_type": "code",
   "execution_count": 20,
   "id": "88682529",
   "metadata": {},
   "outputs": [
    {
     "name": "stdout",
     "output_type": "stream",
     "text": [
      "              precision    recall  f1-score   support\n",
      "\n",
      "           1       0.97      0.98      0.97       500\n",
      "           2       0.98      0.97      0.97       500\n",
      "           3       0.98      0.96      0.97       500\n",
      "           4       0.97      0.97      0.97       500\n",
      "           5       0.98      0.98      0.98       500\n",
      "           6       0.97      0.99      0.98       500\n",
      "           7       0.98      0.97      0.97       500\n",
      "           8       0.98      0.98      0.98       500\n",
      "           9       0.97      0.96      0.96       500\n",
      "          10       0.98      0.99      0.99       500\n",
      "\n",
      "    accuracy                           0.98      5000\n",
      "   macro avg       0.98      0.98      0.98      5000\n",
      "weighted avg       0.98      0.98      0.98      5000\n",
      "\n"
     ]
    }
   ],
   "source": [
    "pre_y=np.argmax(a_3, axis=1)+1 \n",
    "print(classification_report(data_1[\"y\"], pre_y))"
   ]
  },
  {
   "cell_type": "code",
   "execution_count": null,
   "id": "ff9814f2",
   "metadata": {},
   "outputs": [],
   "source": []
  }
 ],
 "metadata": {
  "kernelspec": {
   "display_name": "Python 3",
   "language": "python",
   "name": "python3"
  },
  "language_info": {
   "codemirror_mode": {
    "name": "ipython",
    "version": 3
   },
   "file_extension": ".py",
   "mimetype": "text/x-python",
   "name": "python",
   "nbconvert_exporter": "python",
   "pygments_lexer": "ipython3",
   "version": "3.8.8"
  }
 },
 "nbformat": 4,
 "nbformat_minor": 5
}
