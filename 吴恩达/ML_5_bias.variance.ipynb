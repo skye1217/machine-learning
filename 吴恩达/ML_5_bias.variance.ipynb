{
 "cells": [
  {
   "cell_type": "code",
   "execution_count": 8,
   "id": "ca6b8982",
   "metadata": {},
   "outputs": [],
   "source": [
    "import numpy as np\n",
    "import pandas as pd\n",
    "import scipy.io as sio\n",
    "import scipy.optimize as opt\n",
    "from sklearn.metrics import classification_report  #这个包是评价报告\n",
    "import matplotlib.pyplot as plt"
   ]
  },
  {
   "cell_type": "code",
   "execution_count": 9,
   "id": "8016b0f6",
   "metadata": {},
   "outputs": [
    {
     "name": "stdout",
     "output_type": "stream",
     "text": [
      "(12, 1) (21, 1) (21, 1)\n",
      "(12, 1) (21, 1) (21, 1)\n"
     ]
    }
   ],
   "source": [
    "data_1=sio.loadmat('/Users/yangguangqiang/Music/career-2021/ML-startup/吴恩达/ML-homework-main/ex5-bias vs variance/ex5data1.mat')\n",
    "train_x=data_1['X']\n",
    "train_y=data_1['y']\n",
    "test_x=data_1['Xtest']\n",
    "test_y=data_1['ytest']\n",
    "cv_x=data_1['Xval']\n",
    "cv_y=data_1['yval']\n",
    "print(train_x.shape,test_x.shape,cv_x.shape)\n",
    "print(train_y.shape,test_y.shape,cv_y.shape)"
   ]
  },
  {
   "cell_type": "code",
   "execution_count": 11,
   "id": "c931c51b",
   "metadata": {},
   "outputs": [
    {
     "data": {
      "text/plain": [
       "array([[-15.93675813],\n",
       "       [-29.15297922],\n",
       "       [ 36.18954863],\n",
       "       [ 37.49218733],\n",
       "       [-48.05882945],\n",
       "       [ -8.94145794],\n",
       "       [ 15.30779289],\n",
       "       [-34.70626581],\n",
       "       [  1.38915437],\n",
       "       [-44.38375985],\n",
       "       [  7.01350208],\n",
       "       [ 22.76274892]])"
      ]
     },
     "execution_count": 11,
     "metadata": {},
     "output_type": "execute_result"
    }
   ],
   "source": [
    "(train_x)"
   ]
  },
  {
   "cell_type": "code",
   "execution_count": 10,
   "id": "409f727e",
   "metadata": {},
   "outputs": [
    {
     "data": {
      "image/png": "[encoded data removed]",
      "text/plain": [
       "<Figure size 576x288 with 1 Axes>"
      ]
     },
     "metadata": {
      "needs_background": "light"
     },
     "output_type": "display_data"
    }
   ],
   "source": [
    "fig, ax = plt.subplots(figsize=(8, 4))\n",
    "ax.scatter(x=train_x, y=train_y)\n",
    "plt.title('visualize train data')\n",
    "plt.show()"
   ]
  },
  {
   "cell_type": "code",
   "execution_count": null,
   "id": "b4ab9d73",
   "metadata": {},
   "outputs": [],
   "source": []
  },
  {
   "cell_type": "code",
   "execution_count": null,
   "id": "20ef09ca",
   "metadata": {},
   "outputs": [],
   "source": []
  },
  {
   "cell_type": "code",
   "execution_count": 7,
   "id": "84f9c0aa",
   "metadata": {},
   "outputs": [],
   "source": [
    "def cost(theta, X, Y):\n",
    "    theta[0]=theta[0]+1                            #不正则的时候，有 theta0=1\n",
    "    inner= np.power((X @ theta)-Y,2)\n",
    "    return np.sum(inner)/(2*len(X))\n",
    "\n",
    "def regularize_cost(theta, X, Y,fi=1):\n",
    "    theta[0]=theta[0]-1                          #正则的时候， theta0=0 !!!!!\n",
    "    theta=theta.reshape([X.shape[1],1])  \n",
    "    third=fi*np.power(theta,2).sum()/(2*len(X))\n",
    "    return cost(theta, X, Y)+third"
   ]
  },
  {
   "cell_type": "code",
   "execution_count": 4,
   "id": "87d78644",
   "metadata": {},
   "outputs": [],
   "source": [
    "def gradient(theta, X, Y):\n",
    "    theta[0]=theta[0]+1\n",
    "    return ((1/len(X)) * X.T @ (X @ theta -Y)) #下降一步的值\n",
    "\n",
    "def regularize_gradient(theta, X, Y,fi=1):\n",
    "    theta[0]=theta[0]-1\n",
    "    theta=theta.reshape([X.shape[1],1])\n",
    "    regularize_num= (fi/len(X)) * theta\n",
    "    return  (gradient(theta, X, Y) + regularize_num).reshape(X.shape[1]) #矩阵加法，每一项加一个"
   ]
  },
  {
   "cell_type": "code",
   "execution_count": 5,
   "id": "c4eda15a",
   "metadata": {},
   "outputs": [],
   "source": [
    "## process data, insert x0=1 !!\n",
    "train_x=np.insert(train_x,0,values=1,axis=1)\n",
    "theta = np.ones(2)"
   ]
  },
  {
   "cell_type": "code",
   "execution_count": 19,
   "id": "833879b7",
   "metadata": {},
   "outputs": [
    {
     "name": "stdout",
     "output_type": "stream",
     "text": [
      "[-15.30301567 598.25074417]\n",
      "303.9931922202643\n"
     ]
    }
   ],
   "source": [
    "print(regularize_gradient(theta, train_x, train_y).reshape(2))\n",
    "print(regularize_cost(theta, train_x, train_y))"
   ]
  },
  {
   "cell_type": "code",
   "execution_count": 4,
   "id": "903789cf",
   "metadata": {},
   "outputs": [],
   "source": [
    "def linear_regression(X,Y , fi):\n",
    "    Theta = np.ones(X.shape[1])\n",
    "    res = opt.minimize(fun=regularize_cost, x0=Theta,\n",
    "                      args=(X, Y,fi), method='TNC',\n",
    "                      jac=regularize_gradient,\n",
    "                      options={'disp': True})\n",
    "    return res"
   ]
  },
  {
   "cell_type": "code",
   "execution_count": 21,
   "id": "63d412d5",
   "metadata": {},
   "outputs": [
    {
     "data": {
      "text/plain": [
       "     fun: 22.373906495108923\n",
       "     jac: array([ 1.23341592e-07, -4.33699456e-07])\n",
       " message: 'Converged (|f_n-f_(n-1)| ~= 0)'\n",
       "    nfev: 9\n",
       "     nit: 4\n",
       "  status: 1\n",
       " success: True\n",
       "       x: array([13.08790364,  0.36777923])"
      ]
     },
     "execution_count": 21,
     "metadata": {},
     "output_type": "execute_result"
    }
   ],
   "source": [
    "result=linear_regression(train_x,train_y , fi=0)\n",
    "result"
   ]
  },
  {
   "cell_type": "code",
   "execution_count": 25,
   "id": "1f7eb331",
   "metadata": {},
   "outputs": [
    {
     "data": {
      "image/png": "[encoded data removed]",
      "text/plain": [
       "<Figure size 576x288 with 1 Axes>"
      ]
     },
     "metadata": {
      "needs_background": "light"
     },
     "output_type": "display_data"
    }
   ],
   "source": [
    "b = result['x'][0] \n",
    "a = result['x'][1]  \n",
    "x = train_x[:, 1:]\n",
    "fig, ax = plt.subplots(figsize=(8,4))\n",
    "ax.scatter(x, train_y, label='Training data')\n",
    "ax.plot(x, a*x+b, label='Prediction', c='r')\n",
    "plt.title('fit train data')\n",
    "ax.legend(loc='best')\n",
    "plt.show()"
   ]
  },
  {
   "cell_type": "markdown",
   "id": "c6fa7653",
   "metadata": {},
   "source": [
    "### 1. plot learning curve--change M "
   ]
  },
  {
   "cell_type": "code",
   "execution_count": 26,
   "id": "7a3b8e74",
   "metadata": {},
   "outputs": [],
   "source": [
    "## process data, insert x0=1 !!\n",
    "test_x,cv_x=np.insert(train_x,0,values=1,axis=1),np.insert(cv_x,0,values=1,axis=1)"
   ]
  },
  {
   "cell_type": "code",
   "execution_count": 29,
   "id": "f9bdc3eb",
   "metadata": {},
   "outputs": [],
   "source": [
    "M = len(train_x) ; train_cost, cv_cost=[],[]\n",
    "for i in range(1, M+1):\n",
    "    result = linear_regression(train_x[:i, :],train_y[:i], fi=0)\n",
    "    train_error = regularize_cost(result['x'], train_x[:i, :], train_y[:i], fi=0)\n",
    "    cv_error = regularize_cost(result['x'], cv_x, cv_y, fi=0)\n",
    "    \n",
    "    train_cost.append(train_error)\n",
    "    cv_cost.append(cv_error)\n"
   ]
  },
  {
   "cell_type": "code",
   "execution_count": 31,
   "id": "43830fbc",
   "metadata": {},
   "outputs": [
    {
     "data": {
      "image/png": "[encoded data removed]",
      "text/plain": [
       "<Figure size 576x288 with 1 Axes>"
      ]
     },
     "metadata": {
      "needs_background": "light"
     },
     "output_type": "display_data"
    }
   ],
   "source": [
    "fig, ax = plt.subplots(figsize=(8,4))\n",
    "ax.plot(np.arange(1, M+1), train_cost, label='Training cost')\n",
    "ax.plot(np.arange(1, M+1), cv_cost, label='Cv cost')\n",
    "ax.legend(loc='best')\n",
    "plt.show()"
   ]
  },
  {
   "cell_type": "markdown",
   "id": "eb09151c",
   "metadata": {},
   "source": [
    "##### from learning curve, we see model is high bias and underfit !!!"
   ]
  },
  {
   "cell_type": "markdown",
   "id": "50b99f51",
   "metadata": {},
   "source": [
    "### 2. plot learning curve---change degree of x (x^1,x^2,,,x^p )"
   ]
  },
  {
   "cell_type": "code",
   "execution_count": 5,
   "id": "55ec7789",
   "metadata": {},
   "outputs": [],
   "source": [
    "data_2=sio.loadmat('/Users/yangguangqiang/Music/career-2021/ML-startup/吴恩达/ML-homework-main/ex5-bias vs variance/ex5data1.mat')\n",
    "train_x=data_2['X']\n",
    "train_y=data_2['y']\n",
    "test_x=data_2['Xtest']\n",
    "test_y=data_2['ytest']\n",
    "cv_x=data_2['Xval']\n",
    "cv_y=data_2['yval']"
   ]
  },
  {
   "cell_type": "code",
   "execution_count": 6,
   "id": "14f1d106",
   "metadata": {},
   "outputs": [],
   "source": [
    "def standard_data(df):\n",
    "    return df.apply(lambda col: (col - col.mean()) / col.std())\n",
    "    # df = (df - df.mean()) / data.std() "
   ]
  },
  {
   "cell_type": "code",
   "execution_count": 7,
   "id": "e4823fc2",
   "metadata": {},
   "outputs": [],
   "source": [
    "def poly_features(x, power, as_ndarray=False):\n",
    "    data = {'f{}'.format(i): np.power(x, i) for i in range(1, power+1)}\n",
    "    df = pd.DataFrame(data)\n",
    "    \n",
    "    return df.values if as_ndarray else df"
   ]
  },
  {
   "cell_type": "code",
   "execution_count": 8,
   "id": "31ec4ccd",
   "metadata": {},
   "outputs": [],
   "source": [
    "def prepare_poly_data(*args, power):\n",
    "    def prepare(x):\n",
    "        df = poly_features(x.reshape(x.shape[0]), power)\n",
    "        ndarr = standard_data(df).values          #标准化数据\n",
    "#         ndarr = ((df - df.mean()) / df.std()).values\n",
    "        return np.insert(ndarr, 0, values=1 , axis=1)  # x0 设置为 1\n",
    "    \n",
    "    return [prepare(x) for x in args][0]"
   ]
  },
  {
   "cell_type": "code",
   "execution_count": 35,
   "id": "ff101ea1",
   "metadata": {},
   "outputs": [
    {
     "data": {
      "text/html": [
       "<div>\n",
       "<style scoped>\n",
       "    .dataframe tbody tr th:only-of-type {\n",
       "        vertical-align: middle;\n",
       "    }\n",
       "\n",
       "    .dataframe tbody tr th {\n",
       "        vertical-align: top;\n",
       "    }\n",
       "\n",
       "    .dataframe thead th {\n",
       "        text-align: right;\n",
       "    }\n",
       "</style>\n",
       "<table border=\"1\" class=\"dataframe\">\n",
       "  <thead>\n",
       "    <tr style=\"text-align: right;\">\n",
       "      <th></th>\n",
       "      <th>f1</th>\n",
       "      <th>f2</th>\n",
       "      <th>f3</th>\n",
       "      <th>f4</th>\n",
       "    </tr>\n",
       "  </thead>\n",
       "  <tbody>\n",
       "    <tr>\n",
       "      <th>0</th>\n",
       "      <td>-15.936758</td>\n",
       "      <td>253.980260</td>\n",
       "      <td>-4047.621971</td>\n",
       "      <td>6.450597e+04</td>\n",
       "    </tr>\n",
       "    <tr>\n",
       "      <th>1</th>\n",
       "      <td>-29.152979</td>\n",
       "      <td>849.896197</td>\n",
       "      <td>-24777.006175</td>\n",
       "      <td>7.223235e+05</td>\n",
       "    </tr>\n",
       "    <tr>\n",
       "      <th>2</th>\n",
       "      <td>36.189549</td>\n",
       "      <td>1309.683430</td>\n",
       "      <td>47396.852168</td>\n",
       "      <td>1.715271e+06</td>\n",
       "    </tr>\n",
       "    <tr>\n",
       "      <th>3</th>\n",
       "      <td>37.492187</td>\n",
       "      <td>1405.664111</td>\n",
       "      <td>52701.422173</td>\n",
       "      <td>1.975892e+06</td>\n",
       "    </tr>\n",
       "    <tr>\n",
       "      <th>4</th>\n",
       "      <td>-48.058829</td>\n",
       "      <td>2309.651088</td>\n",
       "      <td>-110999.127750</td>\n",
       "      <td>5.334488e+06</td>\n",
       "    </tr>\n",
       "    <tr>\n",
       "      <th>5</th>\n",
       "      <td>-8.941458</td>\n",
       "      <td>79.949670</td>\n",
       "      <td>-714.866612</td>\n",
       "      <td>6.391950e+03</td>\n",
       "    </tr>\n",
       "    <tr>\n",
       "      <th>6</th>\n",
       "      <td>15.307793</td>\n",
       "      <td>234.328523</td>\n",
       "      <td>3587.052500</td>\n",
       "      <td>5.490986e+04</td>\n",
       "    </tr>\n",
       "    <tr>\n",
       "      <th>7</th>\n",
       "      <td>-34.706266</td>\n",
       "      <td>1204.524887</td>\n",
       "      <td>-41804.560890</td>\n",
       "      <td>1.450880e+06</td>\n",
       "    </tr>\n",
       "    <tr>\n",
       "      <th>8</th>\n",
       "      <td>1.389154</td>\n",
       "      <td>1.929750</td>\n",
       "      <td>2.680720</td>\n",
       "      <td>3.723935e+00</td>\n",
       "    </tr>\n",
       "    <tr>\n",
       "      <th>9</th>\n",
       "      <td>-44.383760</td>\n",
       "      <td>1969.918139</td>\n",
       "      <td>-87432.373590</td>\n",
       "      <td>3.880577e+06</td>\n",
       "    </tr>\n",
       "    <tr>\n",
       "      <th>10</th>\n",
       "      <td>7.013502</td>\n",
       "      <td>49.189211</td>\n",
       "      <td>344.988637</td>\n",
       "      <td>2.419579e+03</td>\n",
       "    </tr>\n",
       "    <tr>\n",
       "      <th>11</th>\n",
       "      <td>22.762749</td>\n",
       "      <td>518.142738</td>\n",
       "      <td>11794.353058</td>\n",
       "      <td>2.684719e+05</td>\n",
       "    </tr>\n",
       "  </tbody>\n",
       "</table>\n",
       "</div>"
      ],
      "text/plain": [
       "           f1           f2             f3            f4\n",
       "0  -15.936758   253.980260   -4047.621971  6.450597e+04\n",
       "1  -29.152979   849.896197  -24777.006175  7.223235e+05\n",
       "2   36.189549  1309.683430   47396.852168  1.715271e+06\n",
       "3   37.492187  1405.664111   52701.422173  1.975892e+06\n",
       "4  -48.058829  2309.651088 -110999.127750  5.334488e+06\n",
       "5   -8.941458    79.949670    -714.866612  6.391950e+03\n",
       "6   15.307793   234.328523    3587.052500  5.490986e+04\n",
       "7  -34.706266  1204.524887  -41804.560890  1.450880e+06\n",
       "8    1.389154     1.929750       2.680720  3.723935e+00\n",
       "9  -44.383760  1969.918139  -87432.373590  3.880577e+06\n",
       "10   7.013502    49.189211     344.988637  2.419579e+03\n",
       "11  22.762749   518.142738   11794.353058  2.684719e+05"
      ]
     },
     "execution_count": 35,
     "metadata": {},
     "output_type": "execute_result"
    }
   ],
   "source": [
    "poly_features(data_2['X'].reshape(12),power=4)    #需要 reshape 成一维的 array ！！！"
   ]
  },
  {
   "cell_type": "code",
   "execution_count": 42,
   "id": "219dc177",
   "metadata": {},
   "outputs": [
    {
     "data": {
      "text/plain": [
       "array([[ 1.00000000e+00, -3.62140776e-01, -7.55086688e-01,\n",
       "         1.82225876e-01],\n",
       "       [ 1.00000000e+00, -8.03204845e-01,  1.25825266e-03,\n",
       "        -2.47936991e-01],\n",
       "       [ 1.00000000e+00,  1.37746700e+00,  5.84826715e-01,\n",
       "         1.24976856e+00],\n",
       "       [ 1.00000000e+00,  1.42093988e+00,  7.06646754e-01,\n",
       "         1.35984559e+00],\n",
       "       [ 1.00000000e+00, -1.43414853e+00,  1.85399982e+00,\n",
       "        -2.03716308e+00],\n",
       "       [ 1.00000000e+00, -1.28687086e-01, -9.75968776e-01,\n",
       "         2.51385075e-01],\n",
       "       [ 1.00000000e+00,  6.80581552e-01, -7.80028951e-01,\n",
       "         3.40655738e-01],\n",
       "       [ 1.00000000e+00, -9.88534310e-01,  4.51358004e-01,\n",
       "        -6.01281871e-01],\n",
       "       [ 1.00000000e+00,  2.16075753e-01, -1.07499276e+00,\n",
       "         2.66275156e-01],\n",
       "       [ 1.00000000e+00, -1.31150068e+00,  1.42280595e+00,\n",
       "        -1.54812094e+00],\n",
       "       [ 1.00000000e+00,  4.03776736e-01, -1.01501039e+00,\n",
       "         2.73378511e-01],\n",
       "       [ 1.00000000e+00,  9.29375305e-01, -4.19807932e-01,\n",
       "         5.10968368e-01]])"
      ]
     },
     "execution_count": 42,
     "metadata": {},
     "output_type": "execute_result"
    }
   ],
   "source": [
    "prepare_poly_data(train_x, power=3)"
   ]
  },
  {
   "cell_type": "code",
   "execution_count": 36,
   "id": "57352cce",
   "metadata": {},
   "outputs": [],
   "source": [
    "def plot_learning_curve(X,Y,cv_X,cv_Y, fi,max_power):\n",
    "    train_cost, cv_cost = [], []\n",
    "    \n",
    "    for i in range(1, max_power+1):\n",
    "        temp_X=prepare_poly_data(X, power=i)\n",
    "        cv_temp_X=prepare_poly_data(cv_X, power=i)\n",
    "        \n",
    "        temp_result = linear_regression(temp_X,Y, fi=fi)\n",
    "    \n",
    "        train_error = regularize_cost(temp_result.x, temp_X, Y, fi=0)\n",
    "        cv_error = regularize_cost(temp_result.x, cv_temp_X, cv_Y, fi=0)\n",
    "        \n",
    "        train_cost.append(train_error)\n",
    "        cv_cost.append(cv_error)\n",
    "        \n",
    "    fig, ax = plt.subplots(figsize=(max_power/1.5,4))\n",
    "    ax.plot(np.arange(1, max_power+1), train_cost, label='Train cost')\n",
    "    ax.plot(np.arange(1, max_power+1), cv_cost, label='Cv cost')\n",
    "    ax.legend(loc='best', title=r'$\\lambda={}$'.format(fi) )\n",
    "    plt.xlabel(\"Degree\")\n",
    "    plt.ylabel(\"Error\")\n",
    "    plt.title(' error VS changing x^p ')\n",
    "\n",
    "    plt.show()"
   ]
  },
  {
   "cell_type": "code",
   "execution_count": 39,
   "id": "bc4e9474",
   "metadata": {},
   "outputs": [
    {
     "data": {
      "image/png": "[encoded data removed]",
      "text/plain": [
       "<Figure size 576x288 with 1 Axes>"
      ]
     },
     "metadata": {
      "needs_background": "light"
     },
     "output_type": "display_data"
    }
   ],
   "source": [
    "plot_learning_curve(train_x,train_y,cv_x,cv_y, fi=0,max_power=12)"
   ]
  },
  {
   "cell_type": "code",
   "execution_count": 40,
   "id": "be79787b",
   "metadata": {},
   "outputs": [
    {
     "data": {
      "image/png": "[encoded data removed]",
      "text/plain": [
       "<Figure size 576x288 with 1 Axes>"
      ]
     },
     "metadata": {
      "needs_background": "light"
     },
     "output_type": "display_data"
    }
   ],
   "source": [
    "plot_learning_curve(train_x,train_y,cv_x,cv_y, fi=1,max_power=12)"
   ]
  },
  {
   "cell_type": "code",
   "execution_count": 41,
   "id": "18213fbb",
   "metadata": {},
   "outputs": [
    {
     "data": {
      "image/png": "[encoded data removed]",
      "text/plain": [
       "<Figure size 576x288 with 1 Axes>"
      ]
     },
     "metadata": {
      "needs_background": "light"
     },
     "output_type": "display_data"
    }
   ],
   "source": [
    "plot_learning_curve(train_x,train_y,cv_x,cv_y, fi=100,max_power=12)"
   ]
  },
  {
   "cell_type": "markdown",
   "id": "078f01c7",
   "metadata": {},
   "source": [
    "### 3. plot learning curve---change lamanda "
   ]
  },
  {
   "cell_type": "code",
   "execution_count": 28,
   "id": "82a8acb6",
   "metadata": {},
   "outputs": [],
   "source": [
    "def plot_lam_curve(X,Y,cv_X,cv_Y,test_X,test_Y,fi_list,power_num):\n",
    "    train_cost, cv_cost , test_cost= [], [] ,[]\n",
    "    X=prepare_poly_data(X, power=power_num)\n",
    "    cv_X=prepare_poly_data(cv_X, power=power_num)\n",
    "    test_X=prepare_poly_data(test_X, power=power_num)\n",
    "    for j in fi_list:        \n",
    "        temp_result = linear_regression(X,Y, fi=j)\n",
    "        \n",
    "        train_error = regularize_cost(temp_result.x, X, Y, fi=0)\n",
    "        cv_error = regularize_cost(temp_result.x, cv_X, cv_Y, fi=0)\n",
    "        test_error = regularize_cost(temp_result.x, test_X, test_Y, fi=0)\n",
    "        \n",
    "        train_cost.append(train_error)\n",
    "        cv_cost.append(cv_error)\n",
    "        test_cost.append(test_error)\n",
    "        \n",
    "    fig, ax = plt.subplots(figsize=(14/1.5,4))\n",
    "    ax.plot(fi_list, train_cost, label='Train cost')\n",
    "    ax.plot(fi_list, cv_cost, label='Cv cost')\n",
    "    ax.plot(fi_list, test_cost, label='Test cost')\n",
    "    ax.legend(loc='best')\n",
    "    plt.xlabel(\"learning rate\")\n",
    "    plt.ylabel(\"Error\")\n",
    "    plt.title(' error VS changing learning rate ')\n",
    "    plt.show()"
   ]
  },
  {
   "cell_type": "code",
   "execution_count": 33,
   "id": "64a0b7a2",
   "metadata": {},
   "outputs": [
    {
     "data": {
      "image/png": "[encoded data removed]",
      "text/plain": [
       "<Figure size 672x288 with 1 Axes>"
      ]
     },
     "metadata": {
      "needs_background": "light"
     },
     "output_type": "display_data"
    }
   ],
   "source": [
    "plot_lam_curve(train_x,train_y,cv_x,cv_y,test_x,test_y,\n",
    "               [0, 0.001, 0.003, 0.01, 0.03, 0.1, 0.3, 1, 3, 10],8)"
   ]
  },
  {
   "cell_type": "code",
   "execution_count": null,
   "id": "0259543e",
   "metadata": {},
   "outputs": [],
   "source": []
  },
  {
   "cell_type": "code",
   "execution_count": null,
   "id": "beecaa58",
   "metadata": {},
   "outputs": [],
   "source": []
  },
  {
   "cell_type": "code",
   "execution_count": null,
   "id": "aa326f82",
   "metadata": {},
   "outputs": [],
   "source": []
  }
 ],
 "metadata": {
  "kernelspec": {
   "display_name": "Python 3",
   "language": "python",
   "name": "python3"
  },
  "language_info": {
   "codemirror_mode": {
    "name": "ipython",
    "version": 3
   },
   "file_extension": ".py",
   "mimetype": "text/x-python",
   "name": "python",
   "nbconvert_exporter": "python",
   "pygments_lexer": "ipython3",
   "version": "3.8.8"
  }
 },
 "nbformat": 4,
 "nbformat_minor": 5
}
