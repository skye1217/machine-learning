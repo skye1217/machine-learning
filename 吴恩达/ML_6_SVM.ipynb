{
 "cells": [
  {
   "cell_type": "code",
   "execution_count": 4,
   "id": "63b60002",
   "metadata": {},
   "outputs": [],
   "source": [
    "import numpy as np\n",
    "import pandas as pd\n",
    "import scipy.io as sio\n",
    "import sklearn.svm\n",
    "import sklearn.model_selection    #select parameters\n",
    "from sklearn.metrics import classification_report  #这个包是评价报告\n",
    "import matplotlib.pyplot as plt  #加油！！！珍惜时间～～～"
   ]
  },
  {
   "cell_type": "markdown",
   "id": "a1358cc8",
   "metadata": {},
   "source": [
    "### 1. linear SVM with x1,x2 and change C"
   ]
  },
  {
   "cell_type": "code",
   "execution_count": 5,
   "id": "c83b402e",
   "metadata": {},
   "outputs": [
    {
     "data": {
      "text/html": [
       "<div>\n",
       "<style scoped>\n",
       "    .dataframe tbody tr th:only-of-type {\n",
       "        vertical-align: middle;\n",
       "    }\n",
       "\n",
       "    .dataframe tbody tr th {\n",
       "        vertical-align: top;\n",
       "    }\n",
       "\n",
       "    .dataframe thead th {\n",
       "        text-align: right;\n",
       "    }\n",
       "</style>\n",
       "<table border=\"1\" class=\"dataframe\">\n",
       "  <thead>\n",
       "    <tr style=\"text-align: right;\">\n",
       "      <th></th>\n",
       "      <th>X1</th>\n",
       "      <th>X2</th>\n",
       "      <th>Y</th>\n",
       "    </tr>\n",
       "  </thead>\n",
       "  <tbody>\n",
       "    <tr>\n",
       "      <th>0</th>\n",
       "      <td>1.9643</td>\n",
       "      <td>4.5957</td>\n",
       "      <td>1</td>\n",
       "    </tr>\n",
       "    <tr>\n",
       "      <th>1</th>\n",
       "      <td>2.2753</td>\n",
       "      <td>3.8589</td>\n",
       "      <td>1</td>\n",
       "    </tr>\n",
       "    <tr>\n",
       "      <th>2</th>\n",
       "      <td>2.9781</td>\n",
       "      <td>4.5651</td>\n",
       "      <td>1</td>\n",
       "    </tr>\n",
       "    <tr>\n",
       "      <th>3</th>\n",
       "      <td>2.9320</td>\n",
       "      <td>3.5519</td>\n",
       "      <td>1</td>\n",
       "    </tr>\n",
       "    <tr>\n",
       "      <th>4</th>\n",
       "      <td>3.5772</td>\n",
       "      <td>2.8560</td>\n",
       "      <td>1</td>\n",
       "    </tr>\n",
       "  </tbody>\n",
       "</table>\n",
       "</div>"
      ],
      "text/plain": [
       "       X1      X2  Y\n",
       "0  1.9643  4.5957  1\n",
       "1  2.2753  3.8589  1\n",
       "2  2.9781  4.5651  1\n",
       "3  2.9320  3.5519  1\n",
       "4  3.5772  2.8560  1"
      ]
     },
     "execution_count": 5,
     "metadata": {},
     "output_type": "execute_result"
    }
   ],
   "source": [
    "data_1=sio.loadmat('/Users/yangguangqiang/Music/career-2021/ML-startup/吴恩达/ML-homework-main/ex6-SVM/data/ex6data1.mat')\n",
    "data_x=data_1['X']\n",
    "data_y=data_1['y']\n",
    "df_1=pd.DataFrame(data_x,columns=['X1','X2'])  #build a dataframe to record data\n",
    "df_1['Y']=data_y\n",
    "df_1.head()"
   ]
  },
  {
   "cell_type": "code",
   "execution_count": 22,
   "id": "c54f41b9",
   "metadata": {},
   "outputs": [
    {
     "data": {
      "text/plain": [
       "(0.086405, 4.015, 1.6177, 4.6162)"
      ]
     },
     "execution_count": 22,
     "metadata": {},
     "output_type": "execute_result"
    }
   ],
   "source": [
    "min(df_1['X1']), max(df_1['X1']), min(df_1['X2']), max(df_1['X2'])"
   ]
  },
  {
   "cell_type": "code",
   "execution_count": 17,
   "id": "1a27583e",
   "metadata": {},
   "outputs": [
    {
     "data": {
      "image/png": "[encoded data removed]",
      "text/plain": [
       "<Figure size 576x288 with 1 Axes>"
      ]
     },
     "metadata": {
      "needs_background": "light"
     },
     "output_type": "display_data"
    }
   ],
   "source": [
    "## visualize plot scatter\n",
    "class_1=df_1[df_1[\"Y\"]==1]\n",
    "class_0=df_1[df_1[\"Y\"]==0]\n",
    "\n",
    "fig, ax = plt.subplots(figsize=(8, 4))\n",
    "ax.scatter(class_1['X1'], class_1['X2'], label='y=1', s=50, marker='+', c='r')\n",
    "ax.scatter(class_0['X1'], class_0['X2'], label='y=0', s=50, marker='o', c='b')\n",
    "ax.legend(loc='best')\n",
    "ax.set_xlabel('X1')\n",
    "ax.set_ylabel('X2')\n",
    "plt.show()"
   ]
  },
  {
   "cell_type": "code",
   "execution_count": 28,
   "id": "bde9768a",
   "metadata": {},
   "outputs": [
    {
     "data": {
      "text/plain": [
       "0.9803921568627451"
      ]
     },
     "execution_count": 28,
     "metadata": {},
     "output_type": "execute_result"
    }
   ],
   "source": [
    "## C=1\n",
    "svm_1=sklearn.svm.LinearSVC(C=1, loss='hinge', max_iter=20000)\n",
    "svm_1.fit(df_1[[\"X1\",\"X2\"]],df_1[\"Y\"])\n",
    "svm_1.score(df_1[[\"X1\",\"X2\"]],df_1[\"Y\"])"
   ]
  },
  {
   "cell_type": "code",
   "execution_count": 25,
   "id": "d63068cf",
   "metadata": {},
   "outputs": [
    {
     "data": {
      "image/png": "[encoded data removed]",
      "text/plain": [
       "<Figure size 576x288 with 1 Axes>"
      ]
     },
     "metadata": {
      "needs_background": "light"
     },
     "output_type": "display_data"
    }
   ],
   "source": [
    "## add desicion boundary plot\n",
    "fig, ax = plt.subplots(figsize=(8, 4))\n",
    "ax.scatter(class_1['X1'], class_1['X2'], label='y=1', s=50, marker='+', c='r')\n",
    "ax.scatter(class_0['X1'], class_0['X2'], label='y=0', s=50, marker='o', c='b')\n",
    "ax.legend(loc='lower left')\n",
    "ax.set_xlabel('X1')\n",
    "ax.set_ylabel('X2')\n",
    "\n",
    "x1 = np.arange(0, 4.5, 0.01)\n",
    "x2 = np.arange(0, 5, 0.01)\n",
    "x1, x2 = np.meshgrid(x1, x2) \n",
    "y_pred = np.array([svm_1.predict(np.vstack((a, b)).T) for (a, b) in zip(x1, x2)])  # \".predict\"\n",
    "plt.contour(x1, x2, y_pred, colors='g', linewidths=.5)    # 决策边界, 使用等高线表示\n",
    "\n",
    "plt.show()"
   ]
  },
  {
   "cell_type": "code",
   "execution_count": 26,
   "id": "3ce4106c",
   "metadata": {},
   "outputs": [
    {
     "data": {
      "text/plain": [
       "array([ 0.80282239,  0.38391331,  1.37749174,  0.52118066,  0.33343167,\n",
       "        0.86872941,  0.68654074,  1.61122537,  0.83448689,  1.16712853,\n",
       "        1.07325232,  0.229826  ,  0.33182059,  0.79580403,  0.31580663,\n",
       "        1.27409826,  1.21021018,  1.        ,  0.56477089,  0.38991007,\n",
       "       -0.43522762, -0.30879317, -0.68619968, -0.55395351, -0.33244449,\n",
       "       -0.29376162, -0.44061496, -0.98390663, -0.68555355, -1.32841141,\n",
       "       -1.00372451, -1.4922602 , -0.61136486, -0.68339991, -0.99998838,\n",
       "       -1.15268544, -1.57835466, -1.35594847, -1.03236158, -1.18501602,\n",
       "       -0.77138636, -0.76689027, -0.4664688 , -0.99991717, -0.51026152,\n",
       "       -0.85854505, -1.55894804, -0.25482052, -1.1136199 , -1.54716231,\n",
       "       -0.70995503])"
      ]
     },
     "execution_count": 26,
     "metadata": {},
     "output_type": "execute_result"
    }
   ],
   "source": [
    "svm_1.decision_function(df_1[['X1', 'X2']])  #样本到分类超平面的距离"
   ]
  },
  {
   "cell_type": "code",
   "execution_count": 30,
   "id": "a7776324",
   "metadata": {},
   "outputs": [
    {
     "data": {
      "text/plain": [
       "1.0"
      ]
     },
     "execution_count": 30,
     "metadata": {},
     "output_type": "execute_result"
    }
   ],
   "source": [
    "## C=400\n",
    "svm_2=sklearn.svm.LinearSVC(C=400, loss='hinge', max_iter=80000)\n",
    "svm_2.fit(df_1[[\"X1\",\"X2\"]],df_1[\"Y\"])\n",
    "svm_2.score(df_1[[\"X1\",\"X2\"]],df_1[\"Y\"])"
   ]
  },
  {
   "cell_type": "code",
   "execution_count": 31,
   "id": "46307269",
   "metadata": {},
   "outputs": [
    {
     "data": {
      "image/png": "[encoded data removed]",
      "text/plain": [
       "<Figure size 576x288 with 1 Axes>"
      ]
     },
     "metadata": {
      "needs_background": "light"
     },
     "output_type": "display_data"
    }
   ],
   "source": [
    "## add desicion boundary plot\n",
    "fig, ax = plt.subplots(figsize=(8, 4))\n",
    "ax.scatter(class_1['X1'], class_1['X2'], label='y=1', s=50, marker='+', c='r')\n",
    "ax.scatter(class_0['X1'], class_0['X2'], label='y=0', s=50, marker='o', c='b')\n",
    "ax.legend(loc='lower left')\n",
    "ax.set_xlabel('X1')\n",
    "ax.set_ylabel('X2')\n",
    "\n",
    "x1 = np.arange(0, 4.5, 0.01)\n",
    "x2 = np.arange(0, 5, 0.01)\n",
    "x1, x2 = np.meshgrid(x1, x2) \n",
    "y_pred = np.array([svm_2.predict(np.vstack((a, b)).T) for (a, b) in zip(x1, x2)])  # \".predict\"\n",
    "plt.contour(x1, x2, y_pred, colors='g', linewidths=.5)    # 决策边界, 使用等高线表示\n",
    "\n",
    "plt.show()"
   ]
  },
  {
   "cell_type": "code",
   "execution_count": 32,
   "id": "fa735558",
   "metadata": {},
   "outputs": [
    {
     "data": {
      "text/plain": [
       "array([  9.9625487 ,   5.03269843,  12.80804819,   4.58500706,\n",
       "         0.99991656,   5.02804987,   4.97496852,  12.54886915,\n",
       "         8.04690945,  11.91651628,   8.77667398,   1.27456619,\n",
       "         5.49599436,   9.07961021,   3.33472281,  11.23599543,\n",
       "         9.32840282,   6.58986376,   3.19275624,   3.02319317,\n",
       "        -1.07355908,  -1.        ,  -4.52279261,  -4.11082496,\n",
       "        -2.04536962,  -3.07807038,  -5.10537244,  -8.86659799,\n",
       "        -6.02042158, -10.56469441,  -7.77507801, -10.40742802,\n",
       "        -3.63655942,  -3.43023713,  -6.48547059,  -8.35027452,\n",
       "       -11.96747568,  -8.35807022,  -5.76710121,  -6.28420924,\n",
       "        -2.69028755,  -3.39841806,  -0.65744901,  -8.33327546,\n",
       "        -4.15507512,  -8.49047486, -13.40757612,  -1.91518354,\n",
       "        -5.83889405,  -9.68963701,   0.32115014])"
      ]
     },
     "execution_count": 32,
     "metadata": {},
     "output_type": "execute_result"
    }
   ],
   "source": [
    "svm_2.decision_function(df_1[['X1', 'X2']])  #样本到分类超平面的距离"
   ]
  },
  {
   "cell_type": "markdown",
   "id": "bc1197f5",
   "metadata": {},
   "source": [
    "### 2. 高斯kernel"
   ]
  },
  {
   "cell_type": "code",
   "execution_count": 33,
   "id": "53439044",
   "metadata": {},
   "outputs": [
    {
     "data": {
      "text/html": [
       "<div>\n",
       "<style scoped>\n",
       "    .dataframe tbody tr th:only-of-type {\n",
       "        vertical-align: middle;\n",
       "    }\n",
       "\n",
       "    .dataframe tbody tr th {\n",
       "        vertical-align: top;\n",
       "    }\n",
       "\n",
       "    .dataframe thead th {\n",
       "        text-align: right;\n",
       "    }\n",
       "</style>\n",
       "<table border=\"1\" class=\"dataframe\">\n",
       "  <thead>\n",
       "    <tr style=\"text-align: right;\">\n",
       "      <th></th>\n",
       "      <th>X1</th>\n",
       "      <th>X2</th>\n",
       "      <th>Y</th>\n",
       "    </tr>\n",
       "  </thead>\n",
       "  <tbody>\n",
       "    <tr>\n",
       "      <th>0</th>\n",
       "      <td>0.107143</td>\n",
       "      <td>0.603070</td>\n",
       "      <td>1</td>\n",
       "    </tr>\n",
       "    <tr>\n",
       "      <th>1</th>\n",
       "      <td>0.093318</td>\n",
       "      <td>0.649854</td>\n",
       "      <td>1</td>\n",
       "    </tr>\n",
       "    <tr>\n",
       "      <th>2</th>\n",
       "      <td>0.097926</td>\n",
       "      <td>0.705409</td>\n",
       "      <td>1</td>\n",
       "    </tr>\n",
       "    <tr>\n",
       "      <th>3</th>\n",
       "      <td>0.155530</td>\n",
       "      <td>0.784357</td>\n",
       "      <td>1</td>\n",
       "    </tr>\n",
       "    <tr>\n",
       "      <th>4</th>\n",
       "      <td>0.210829</td>\n",
       "      <td>0.866228</td>\n",
       "      <td>1</td>\n",
       "    </tr>\n",
       "  </tbody>\n",
       "</table>\n",
       "</div>"
      ],
      "text/plain": [
       "         X1        X2  Y\n",
       "0  0.107143  0.603070  1\n",
       "1  0.093318  0.649854  1\n",
       "2  0.097926  0.705409  1\n",
       "3  0.155530  0.784357  1\n",
       "4  0.210829  0.866228  1"
      ]
     },
     "execution_count": 33,
     "metadata": {},
     "output_type": "execute_result"
    }
   ],
   "source": [
    "data_2=sio.loadmat('/Users/yangguangqiang/Music/career-2021/ML-startup/吴恩达/ML-homework-main/ex6-SVM/data/ex6data2.mat')\n",
    "data_x_2=data_2['X']\n",
    "data_y_2=data_2['y']\n",
    "df_2=pd.DataFrame(data_x_2,columns=['X1','X2'])  #build a dataframe to record data\n",
    "df_2['Y']=data_y_2\n",
    "df_2.head()"
   ]
  },
  {
   "cell_type": "code",
   "execution_count": 36,
   "id": "fbe9c70c",
   "metadata": {},
   "outputs": [
    {
     "data": {
      "text/plain": [
       "(0.0449309, 0.998848, 0.402632, 0.988596)"
      ]
     },
     "execution_count": 36,
     "metadata": {},
     "output_type": "execute_result"
    }
   ],
   "source": [
    "min(df_2['X1']), max(df_2['X1']), min(df_2['X2']), max(df_2['X2'])"
   ]
  },
  {
   "cell_type": "code",
   "execution_count": 34,
   "id": "c1d13551",
   "metadata": {},
   "outputs": [
    {
     "data": {
      "image/png": "[encoded data removed]",
      "text/plain": [
       "<Figure size 576x288 with 1 Axes>"
      ]
     },
     "metadata": {
      "needs_background": "light"
     },
     "output_type": "display_data"
    }
   ],
   "source": [
    "## visualize plot scatter\n",
    "class_1=df_2[df_2[\"Y\"]==1]\n",
    "class_0=df_2[df_2[\"Y\"]==0]\n",
    "\n",
    "fig, ax = plt.subplots(figsize=(8, 4))\n",
    "ax.scatter(class_1['X1'], class_1['X2'], label='y=1', s=50, marker='+', c='r')\n",
    "ax.scatter(class_0['X1'], class_0['X2'], label='y=0', s=50, marker='o', c='b')\n",
    "ax.legend(loc='best')\n",
    "ax.set_xlabel('X1')\n",
    "ax.set_ylabel('X2')\n",
    "plt.show()"
   ]
  },
  {
   "cell_type": "code",
   "execution_count": 35,
   "id": "23c39190",
   "metadata": {},
   "outputs": [
    {
     "data": {
      "text/plain": [
       "0.9698725376593279"
      ]
     },
     "execution_count": 35,
     "metadata": {},
     "output_type": "execute_result"
    }
   ],
   "source": [
    "# gamma= 0.5/sigma^2 gamma和sigma成反比，gamma越小即sigma越大，gaussian kernek越\"胖\"，模型越容易under fitting\n",
    "# \"rbf\"---高斯kernel\n",
    "svm_2 = sklearn.svm.SVC(C=100, kernel='rbf', gamma=10, probability=True) #set C=100 and gamma=10 \n",
    "svm_2.fit(df_2[['X1', 'X2']], df_2['Y'])\n",
    "svm_2.score(df_2[['X1', 'X2']], df_2['Y'])"
   ]
  },
  {
   "cell_type": "code",
   "execution_count": 37,
   "id": "839348e7",
   "metadata": {},
   "outputs": [
    {
     "data": {
      "image/png": "[encoded data removed]",
      "text/plain": [
       "<Figure size 576x288 with 1 Axes>"
      ]
     },
     "metadata": {
      "needs_background": "light"
     },
     "output_type": "display_data"
    }
   ],
   "source": [
    "## visualize plot scatter\n",
    "class_1=df_2[df_2[\"Y\"]==1]\n",
    "class_0=df_2[df_2[\"Y\"]==0]\n",
    "\n",
    "fig, ax = plt.subplots(figsize=(8, 4))\n",
    "ax.scatter(class_1['X1'], class_1['X2'], label='y=1', s=50, marker='+', c='r')\n",
    "ax.scatter(class_0['X1'], class_0['X2'], label='y=0', s=50, marker='o', c='b')\n",
    "ax.legend(loc='best')\n",
    "ax.set_xlabel('X1')\n",
    "ax.set_ylabel('X2')\n",
    "\n",
    "x1 = np.arange(0.04, 1, 0.01)\n",
    "x2 = np.arange(0.4, 1, 0.01)\n",
    "x1, x2 = np.meshgrid(x1, x2) \n",
    "y_pred = np.array([svm_2.predict(np.vstack((a, b)).T) for (a, b) in zip(x1, x2)])  # \".predict\"\n",
    "plt.contour(x1, x2, y_pred, colors='g', linewidths=.5)    # 决策边界, 使用等高线表示\n",
    "\n",
    "plt.show()"
   ]
  },
  {
   "cell_type": "markdown",
   "id": "9baf680b",
   "metadata": {},
   "source": [
    "### 3. 通过CV 的效果，来改进 C 和 gamma的选择"
   ]
  },
  {
   "cell_type": "code",
   "execution_count": 39,
   "id": "58cdd17f",
   "metadata": {},
   "outputs": [
    {
     "data": {
      "text/html": [
       "<div>\n",
       "<style scoped>\n",
       "    .dataframe tbody tr th:only-of-type {\n",
       "        vertical-align: middle;\n",
       "    }\n",
       "\n",
       "    .dataframe tbody tr th {\n",
       "        vertical-align: top;\n",
       "    }\n",
       "\n",
       "    .dataframe thead th {\n",
       "        text-align: right;\n",
       "    }\n",
       "</style>\n",
       "<table border=\"1\" class=\"dataframe\">\n",
       "  <thead>\n",
       "    <tr style=\"text-align: right;\">\n",
       "      <th></th>\n",
       "      <th>X1</th>\n",
       "      <th>X2</th>\n",
       "      <th>Y</th>\n",
       "    </tr>\n",
       "  </thead>\n",
       "  <tbody>\n",
       "    <tr>\n",
       "      <th>0</th>\n",
       "      <td>-0.158986</td>\n",
       "      <td>0.423977</td>\n",
       "      <td>1</td>\n",
       "    </tr>\n",
       "    <tr>\n",
       "      <th>1</th>\n",
       "      <td>-0.347926</td>\n",
       "      <td>0.470760</td>\n",
       "      <td>1</td>\n",
       "    </tr>\n",
       "    <tr>\n",
       "      <th>2</th>\n",
       "      <td>-0.504608</td>\n",
       "      <td>0.353801</td>\n",
       "      <td>1</td>\n",
       "    </tr>\n",
       "    <tr>\n",
       "      <th>3</th>\n",
       "      <td>-0.596774</td>\n",
       "      <td>0.114035</td>\n",
       "      <td>1</td>\n",
       "    </tr>\n",
       "    <tr>\n",
       "      <th>4</th>\n",
       "      <td>-0.518433</td>\n",
       "      <td>-0.172515</td>\n",
       "      <td>1</td>\n",
       "    </tr>\n",
       "  </tbody>\n",
       "</table>\n",
       "</div>"
      ],
      "text/plain": [
       "         X1        X2  Y\n",
       "0 -0.158986  0.423977  1\n",
       "1 -0.347926  0.470760  1\n",
       "2 -0.504608  0.353801  1\n",
       "3 -0.596774  0.114035  1\n",
       "4 -0.518433 -0.172515  1"
      ]
     },
     "execution_count": 39,
     "metadata": {},
     "output_type": "execute_result"
    }
   ],
   "source": [
    "data_3=sio.loadmat('/Users/yangguangqiang/Music/career-2021/ML-startup/吴恩达/ML-homework-main/ex6-SVM/data/ex6data3.mat')\n",
    "df_train=pd.DataFrame(data_3['X'],columns=['X1','X2'])  #build a dataframe to record data\n",
    "df_train['Y']=data_3['y']\n",
    "df_train.head()"
   ]
  },
  {
   "cell_type": "code",
   "execution_count": 40,
   "id": "9890284c",
   "metadata": {},
   "outputs": [
    {
     "data": {
      "text/html": [
       "<div>\n",
       "<style scoped>\n",
       "    .dataframe tbody tr th:only-of-type {\n",
       "        vertical-align: middle;\n",
       "    }\n",
       "\n",
       "    .dataframe tbody tr th {\n",
       "        vertical-align: top;\n",
       "    }\n",
       "\n",
       "    .dataframe thead th {\n",
       "        text-align: right;\n",
       "    }\n",
       "</style>\n",
       "<table border=\"1\" class=\"dataframe\">\n",
       "  <thead>\n",
       "    <tr style=\"text-align: right;\">\n",
       "      <th></th>\n",
       "      <th>X1</th>\n",
       "      <th>X2</th>\n",
       "      <th>Y</th>\n",
       "    </tr>\n",
       "  </thead>\n",
       "  <tbody>\n",
       "    <tr>\n",
       "      <th>0</th>\n",
       "      <td>-0.353062</td>\n",
       "      <td>-0.673902</td>\n",
       "      <td>0</td>\n",
       "    </tr>\n",
       "    <tr>\n",
       "      <th>1</th>\n",
       "      <td>-0.227126</td>\n",
       "      <td>0.447320</td>\n",
       "      <td>1</td>\n",
       "    </tr>\n",
       "    <tr>\n",
       "      <th>2</th>\n",
       "      <td>0.092898</td>\n",
       "      <td>-0.753524</td>\n",
       "      <td>0</td>\n",
       "    </tr>\n",
       "    <tr>\n",
       "      <th>3</th>\n",
       "      <td>0.148243</td>\n",
       "      <td>-0.718473</td>\n",
       "      <td>0</td>\n",
       "    </tr>\n",
       "    <tr>\n",
       "      <th>4</th>\n",
       "      <td>-0.001512</td>\n",
       "      <td>0.162928</td>\n",
       "      <td>0</td>\n",
       "    </tr>\n",
       "  </tbody>\n",
       "</table>\n",
       "</div>"
      ],
      "text/plain": [
       "         X1        X2  Y\n",
       "0 -0.353062 -0.673902  0\n",
       "1 -0.227126  0.447320  1\n",
       "2  0.092898 -0.753524  0\n",
       "3  0.148243 -0.718473  0\n",
       "4 -0.001512  0.162928  0"
      ]
     },
     "execution_count": 40,
     "metadata": {},
     "output_type": "execute_result"
    }
   ],
   "source": [
    "df_cv=pd.DataFrame(data_3['Xval'],columns=['X1','X2'])  #build a dataframe to record data\n",
    "df_cv['Y']=data_3['yval']\n",
    "df_cv.head()"
   ]
  },
  {
   "cell_type": "code",
   "execution_count": 42,
   "id": "7b7a669b",
   "metadata": {},
   "outputs": [],
   "source": [
    "select_list=[0.01, 0.03, 0.1, 0.3, 1, 3, 10, 30]\n",
    "combination=[(c,gamma) for c in select_list for gamma in select_list]"
   ]
  },
  {
   "cell_type": "code",
   "execution_count": 47,
   "id": "bf4e2068",
   "metadata": {},
   "outputs": [],
   "source": [
    "score_list=[]\n",
    "for c,ga in combination:\n",
    "    model=sklearn.svm.SVC(C=c, kernel='rbf', gamma=ga)\n",
    "    model.fit(df_train[['X1', 'X2']], df_train['Y'])                 #用train的数据去算参数\n",
    "    score_list.append(model.score(df_cv[['X1', 'X2']], df_cv['Y']))  #用CV的数据去算score"
   ]
  },
  {
   "cell_type": "code",
   "execution_count": 48,
   "id": "9f1a67ec",
   "metadata": {},
   "outputs": [
    {
     "name": "stdout",
     "output_type": "stream",
     "text": [
      "0.965 (3, 30)\n"
     ]
    }
   ],
   "source": [
    "best_score=score_list[np.argmax(score_list)]\n",
    "best_para=combination[np.argmax(score_list)]\n",
    "print(best_score,best_para)"
   ]
  },
  {
   "cell_type": "code",
   "execution_count": 49,
   "id": "865ecc1e",
   "metadata": {},
   "outputs": [
    {
     "name": "stdout",
     "output_type": "stream",
     "text": [
      "              precision    recall  f1-score   support\n",
      "\n",
      "           0       0.97      0.96      0.97       113\n",
      "           1       0.95      0.97      0.96        87\n",
      "\n",
      "    accuracy                           0.96       200\n",
      "   macro avg       0.96      0.97      0.96       200\n",
      "weighted avg       0.97      0.96      0.97       200\n",
      "\n"
     ]
    }
   ],
   "source": [
    "best_model = sklearn.svm.SVC(C = best_para[0], gamma=best_para[1])\n",
    "best_model.fit(df_train[['X1', 'X2']], df_train['Y'])\n",
    "y_pred = best_model.predict(df_cv[['X1', 'X2']])\n",
    "\n",
    "print(classification_report(df_cv['Y'], y_pred))"
   ]
  },
  {
   "cell_type": "markdown",
   "id": "4870b051",
   "metadata": {},
   "source": [
    "### 3.2. 可以自动选择参数的包 GridSearchCV"
   ]
  },
  {
   "cell_type": "code",
   "execution_count": 52,
   "id": "6a464737",
   "metadata": {},
   "outputs": [
    {
     "name": "stdout",
     "output_type": "stream",
     "text": [
      "{'C': 30, 'gamma': 3}\n"
     ]
    }
   ],
   "source": [
    "parameters = {'C': select_list, 'gamma': select_list}\n",
    "model = sklearn.svm.SVC()\n",
    "svm_model = sklearn.model_selection.GridSearchCV(model, parameters, n_jobs=-1)\n",
    "svm_model.fit(df_train[['X1', 'X2']], df_train['Y'])\n",
    "print(svm_model.best_params_)"
   ]
  },
  {
   "cell_type": "code",
   "execution_count": 53,
   "id": "77cc79a2",
   "metadata": {},
   "outputs": [
    {
     "data": {
      "text/html": [
       "<div>\n",
       "<style scoped>\n",
       "    .dataframe tbody tr th:only-of-type {\n",
       "        vertical-align: middle;\n",
       "    }\n",
       "\n",
       "    .dataframe tbody tr th {\n",
       "        vertical-align: top;\n",
       "    }\n",
       "\n",
       "    .dataframe thead th {\n",
       "        text-align: right;\n",
       "    }\n",
       "</style>\n",
       "<table border=\"1\" class=\"dataframe\">\n",
       "  <thead>\n",
       "    <tr style=\"text-align: right;\">\n",
       "      <th></th>\n",
       "      <th>X1</th>\n",
       "      <th>X2</th>\n",
       "      <th>Y</th>\n",
       "    </tr>\n",
       "  </thead>\n",
       "  <tbody>\n",
       "    <tr>\n",
       "      <th>0</th>\n",
       "      <td>-0.158986</td>\n",
       "      <td>0.423977</td>\n",
       "      <td>1</td>\n",
       "    </tr>\n",
       "    <tr>\n",
       "      <th>1</th>\n",
       "      <td>-0.347926</td>\n",
       "      <td>0.470760</td>\n",
       "      <td>1</td>\n",
       "    </tr>\n",
       "    <tr>\n",
       "      <th>2</th>\n",
       "      <td>-0.504608</td>\n",
       "      <td>0.353801</td>\n",
       "      <td>1</td>\n",
       "    </tr>\n",
       "    <tr>\n",
       "      <th>3</th>\n",
       "      <td>-0.596774</td>\n",
       "      <td>0.114035</td>\n",
       "      <td>1</td>\n",
       "    </tr>\n",
       "    <tr>\n",
       "      <th>4</th>\n",
       "      <td>-0.518433</td>\n",
       "      <td>-0.172515</td>\n",
       "      <td>1</td>\n",
       "    </tr>\n",
       "  </tbody>\n",
       "</table>\n",
       "</div>"
      ],
      "text/plain": [
       "         X1        X2  Y\n",
       "0 -0.158986  0.423977  1\n",
       "1 -0.347926  0.470760  1\n",
       "2 -0.504608  0.353801  1\n",
       "3 -0.596774  0.114035  1\n",
       "4 -0.518433 -0.172515  1"
      ]
     },
     "execution_count": 53,
     "metadata": {},
     "output_type": "execute_result"
    }
   ],
   "source": [
    "df_all= pd.concat([df_train, df_cv], axis=0, ignore_index=True)\n",
    "df_all.head()"
   ]
  },
  {
   "cell_type": "code",
   "execution_count": 54,
   "id": "fc035b66",
   "metadata": {},
   "outputs": [
    {
     "name": "stdout",
     "output_type": "stream",
     "text": [
      "{'C': 1, 'gamma': 10}\n"
     ]
    }
   ],
   "source": [
    "para= {'C': select_list, 'gamma': select_list}\n",
    "model2 = sklearn.svm.SVC()\n",
    "svm_model = sklearn.model_selection.GridSearchCV(model2, para, n_jobs=-1)\n",
    "svm_model.fit(df_all[['X1', 'X2']], df_all['Y'])\n",
    "print(svm_model.best_params_)"
   ]
  },
  {
   "cell_type": "markdown",
   "id": "ce195f37",
   "metadata": {},
   "source": [
    "### 4. 垃圾邮件分类"
   ]
  },
  {
   "cell_type": "code",
   "execution_count": 76,
   "id": "c419d8ae",
   "metadata": {},
   "outputs": [],
   "source": [
    "data_train=sio.loadmat('/Users/yangguangqiang/Music/career-2021/ML-startup/吴恩达/ML-homework-main/ex6-SVM/data/spamTrain.mat')\n",
    "train_x=data_train['X']\n",
    "train_y=data_train['y'].ravel()\n",
    "data_test=sio.loadmat('/Users/yangguangqiang/Music/career-2021/ML-startup/吴恩达/ML-homework-main/ex6-SVM/data/spamTest.mat')\n",
    "test_x=data_test['Xtest']\n",
    "test_y=data_test['ytest'].ravel()"
   ]
  },
  {
   "cell_type": "code",
   "execution_count": 77,
   "id": "b2c812b2",
   "metadata": {},
   "outputs": [
    {
     "data": {
      "text/plain": [
       "0.987"
      ]
     },
     "execution_count": 77,
     "metadata": {},
     "output_type": "execute_result"
    }
   ],
   "source": [
    "model_mail = sklearn.svm.SVC()\n",
    "model_mail.fit(train_x,train_y)\n",
    "model_mail.score(test_x,test_y)"
   ]
  },
  {
   "cell_type": "code",
   "execution_count": 78,
   "id": "67d44d0a",
   "metadata": {},
   "outputs": [
    {
     "name": "stdout",
     "output_type": "stream",
     "text": [
      "              precision    recall  f1-score   support\n",
      "\n",
      "           0       0.99      1.00      0.99       692\n",
      "           1       0.99      0.97      0.98       308\n",
      "\n",
      "    accuracy                           0.99      1000\n",
      "   macro avg       0.99      0.98      0.98      1000\n",
      "weighted avg       0.99      0.99      0.99      1000\n",
      "\n"
     ]
    }
   ],
   "source": [
    "pred = model_mail.predict(test_x)\n",
    "print(classification_report(test_y, pred))"
   ]
  },
  {
   "cell_type": "code",
   "execution_count": null,
   "id": "d866d20d",
   "metadata": {},
   "outputs": [],
   "source": []
  }
 ],
 "metadata": {
  "kernelspec": {
   "display_name": "Python 3",
   "language": "python",
   "name": "python3"
  },
  "language_info": {
   "codemirror_mode": {
    "name": "ipython",
    "version": 3
   },
   "file_extension": ".py",
   "mimetype": "text/x-python",
   "name": "python",
   "nbconvert_exporter": "python",
   "pygments_lexer": "ipython3",
   "version": "3.8.8"
  }
 },
 "nbformat": 4,
 "nbformat_minor": 5
}
