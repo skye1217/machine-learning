{
 "cells": [
  {
   "cell_type": "code",
   "execution_count": 1,
   "id": "526921d5",
   "metadata": {},
   "outputs": [],
   "source": [
    "import numpy as np\n",
    "import pandas as pd\n",
    "import scipy.io as sio\n",
    "import scipy.optimize as opt\n",
    "from sklearn.metrics import classification_report  #这个包是评价报告"
   ]
  },
  {
   "cell_type": "code",
   "execution_count": 2,
   "id": "bafba7fd",
   "metadata": {},
   "outputs": [
    {
     "data": {
      "text/plain": [
       "((1682, 943), (1682, 943))"
      ]
     },
     "execution_count": 2,
     "metadata": {},
     "output_type": "execute_result"
    }
   ],
   "source": [
    "data_1=sio.loadmat('/Users/yangguangqiang/Music/career-2021/ML-startup/吴恩达/ML-homework-main/ex8-anomaly detection and recommendation/data/ex8_movies.mat')\n",
    "data_rate=data_1['Y']\n",
    "data_did=data_1['R']\n",
    "data_rate.shape,data_did.shape    # 1682 movies and 943 users"
   ]
  },
  {
   "cell_type": "code",
   "execution_count": 3,
   "id": "25c813d5",
   "metadata": {},
   "outputs": [
    {
     "data": {
      "text/plain": [
       "((1682, 10), (943, 10))"
      ]
     },
     "execution_count": 3,
     "metadata": {},
     "output_type": "execute_result"
    }
   ],
   "source": [
    "data_2=sio.loadmat('/Users/yangguangqiang/Music/career-2021/ML-startup/吴恩达/ML-homework-main/ex8-anomaly detection and recommendation/data/ex8_movieParams.mat')\n",
    "data_x=data_2['X']\n",
    "data_theta=data_2['Theta']\n",
    "data_x.shape,data_theta.shape   # 10 个电影的判断 features"
   ]
  },
  {
   "cell_type": "code",
   "execution_count": 4,
   "id": "5481b5fe",
   "metadata": {},
   "outputs": [],
   "source": [
    "def combine(X,theta):\n",
    "    return np.concatenate((X.ravel(),theta.ravel()))     # ravel():将多维数组转换为一维数组\n",
    "def decombine(para,num_movie,num_user,num_feature):\n",
    "    return para[:num_movie*num_feature].reshape(num_movie,num_feature) , para[num_movie*num_feature:].reshape(num_user,num_feature)"
   ]
  },
  {
   "cell_type": "code",
   "execution_count": 5,
   "id": "21fff1a9",
   "metadata": {},
   "outputs": [],
   "source": [
    "def cost(parameter,Y,R,num_feature):  # parameter : store X and theta\n",
    "    movie_n,user_n=Y.shape\n",
    "    X,theta=decombine(parameter,movie_n,user_n,num_feature)\n",
    "    # R==1时，才计算损失\n",
    "    inner= (X@theta.T-Y)*R    # X:num_movie,num_feature ; theta:num_user,num_feature ; R: num_movie,num_user\n",
    "    return (inner**2).sum()/2\n",
    "\n",
    "def regularized_cost(parameter,Y,R,num_feature,fi=1):  #增加学习率\n",
    "    third=(parameter**2).sum()/2\n",
    "    return cost(parameter,Y,R,num_feature)+third    "
   ]
  },
  {
   "cell_type": "code",
   "execution_count": 6,
   "id": "2b49ce63",
   "metadata": {},
   "outputs": [],
   "source": [
    "def gradient(parameter,Y,R,num_feature):\n",
    "    movie_n,user_n=Y.shape\n",
    "    X,theta=decombine(parameter,movie_n,user_n,num_feature)\n",
    "    \n",
    "    inner=(X@theta.T-Y)*R \n",
    "    x_grad=inner @ theta   # inner: num_movie,num_user ; theta:num_user,num_feature\n",
    "    theta_grad=  inner.T @ X           # inner: num_movie,num_user ; X:num_movie,num_feature\n",
    "    \n",
    "    return combine(x_grad,theta_grad)\n",
    "\n",
    "def regularized_gradient(parameter,Y,R,num_feature,fi=1):\n",
    "    third= fi*parameter\n",
    "    return  gradient(parameter,Y,R,num_feature)+third "
   ]
  },
  {
   "cell_type": "code",
   "execution_count": null,
   "id": "c7943b71",
   "metadata": {},
   "outputs": [],
   "source": [
    "### prepare data we need"
   ]
  },
  {
   "cell_type": "code",
   "execution_count": 14,
   "id": "9d3f5f2a",
   "metadata": {},
   "outputs": [],
   "source": [
    "ratings = np.zeros(1682)  #add new users score\n",
    "ratings[0] = 4\n",
    "ratings[6] = 3\n",
    "ratings[11] = 5\n",
    "ratings[53] = 4\n",
    "ratings[63] = 5\n",
    "ratings[65] = 3\n",
    "ratings[68] = 5\n",
    "ratings[97] = 2\n",
    "ratings[182] = 4\n",
    "ratings[225] = 5\n",
    "ratings[354] = 5"
   ]
  },
  {
   "cell_type": "code",
   "execution_count": 15,
   "id": "6386f7b8",
   "metadata": {},
   "outputs": [
    {
     "data": {
      "text/plain": [
       "((1682, 944), (1682, 944))"
      ]
     },
     "execution_count": 15,
     "metadata": {},
     "output_type": "execute_result"
    }
   ],
   "source": [
    "Y = np.insert(data_rate, 0, ratings, axis=1)\n",
    "R = np.insert(data_did, 0, ratings != 0, axis=1)\n",
    "Y.shape, R.shape"
   ]
  },
  {
   "cell_type": "code",
   "execution_count": 16,
   "id": "c600f8c5",
   "metadata": {},
   "outputs": [
    {
     "data": {
      "text/plain": [
       "((1682, 50), (944, 50))"
      ]
     },
     "execution_count": 16,
     "metadata": {},
     "output_type": "execute_result"
    }
   ],
   "source": [
    "n_feature = 50 ; n_movie, n_user = Y.shape  ; fi = 10\n",
    "\n",
    "X = np.random.standard_normal((n_movie, n_feature))    # initialize X  and theta\n",
    "theta = np.random.standard_normal((n_user, n_feature))   # set there are 50 features\n",
    "X.shape, theta.shape"
   ]
  },
  {
   "cell_type": "code",
   "execution_count": 17,
   "id": "b6f8a022",
   "metadata": {},
   "outputs": [
    {
     "data": {
      "text/plain": [
       "(0.222338595094621, 4.6862111343939375e-17)"
      ]
     },
     "execution_count": 17,
     "metadata": {},
     "output_type": "execute_result"
    }
   ],
   "source": [
    "## 均值规范化\n",
    "param = combine(X, theta)\n",
    "\n",
    "Y_norm = Y - Y.mean()\n",
    "Y.mean(), Y_norm.mean()"
   ]
  },
  {
   "cell_type": "code",
   "execution_count": 18,
   "id": "736e9ec5",
   "metadata": {},
   "outputs": [],
   "source": [
    "### start to train model"
   ]
  },
  {
   "cell_type": "code",
   "execution_count": 19,
   "id": "eb60d453",
   "metadata": {},
   "outputs": [],
   "source": [
    "result= opt.minimize(fun=regularized_cost, x0=param, args=(Y_norm, R, n_feature, fi),\n",
    "                  method='TNC', jac=regularized_gradient)"
   ]
  },
  {
   "cell_type": "code",
   "execution_count": 20,
   "id": "56403fd6",
   "metadata": {},
   "outputs": [
    {
     "data": {
      "text/plain": [
       "     fun: 22354.954453714294\n",
       "     jac: array([-9.38706287,  1.9944128 , -3.26817454, ...,  1.19219805,\n",
       "        2.15462181, -1.23924965])\n",
       " message: 'Converged (|f_n-f_(n-1)| ~= 0)'\n",
       "    nfev: 223\n",
       "     nit: 15\n",
       "  status: 1\n",
       " success: True\n",
       "       x: array([-0.10462144,  0.06016626, -0.09774011, ..., -0.22601338,\n",
       "       -0.04967282,  0.86790336])"
      ]
     },
     "execution_count": 20,
     "metadata": {},
     "output_type": "execute_result"
    }
   ],
   "source": [
    "result"
   ]
  },
  {
   "cell_type": "code",
   "execution_count": null,
   "id": "a0bf7b4d",
   "metadata": {},
   "outputs": [],
   "source": [
    "### predictions"
   ]
  },
  {
   "cell_type": "code",
   "execution_count": 24,
   "id": "ba12d71a",
   "metadata": {},
   "outputs": [
    {
     "data": {
      "text/plain": [
       "array([[3.77692478, 4.49422069, 4.27651842, ..., 4.4010995 , 4.5385381 ,\n",
       "        5.43011502],\n",
       "       [2.66783916, 3.23761623, 2.57845811, ..., 2.79063916, 3.55624699,\n",
       "        4.01193114],\n",
       "       [2.23524393, 3.84370854, 1.74031206, ..., 2.31295274, 2.65612175,\n",
       "        3.15443128],\n",
       "       ...,\n",
       "       [0.54384763, 0.65863084, 0.52682817, ..., 0.52381907, 0.60440925,\n",
       "        0.62043069],\n",
       "       [0.65349248, 0.77706383, 0.70539754, ..., 0.69769557, 0.89914988,\n",
       "        0.79658246],\n",
       "       [0.62407387, 1.11534957, 0.81464207, ..., 0.74149189, 0.84014084,\n",
       "        0.84049639]])"
      ]
     },
     "execution_count": 24,
     "metadata": {},
     "output_type": "execute_result"
    }
   ],
   "source": [
    "X_trained, theta_trained =decombine(result.x, n_movie, n_user, n_feature)\n",
    "prediction = X_trained @ theta_trained.T+Y.mean()\n",
    "prediction"
   ]
  },
  {
   "cell_type": "code",
   "execution_count": null,
   "id": "eeb5b45b",
   "metadata": {},
   "outputs": [],
   "source": [
    "### for user 0 , recommend top 10"
   ]
  },
  {
   "cell_type": "code",
   "execution_count": 25,
   "id": "343f33ba",
   "metadata": {},
   "outputs": [],
   "source": [
    "movie_list = []   # get movie name list\n",
    "with open('/Users/yangguangqiang/Music/career-2021/ML-startup/吴恩达/ML-homework-main/ex8-anomaly detection and recommendation/data/movie_ids.txt', encoding='latin-1') as f:\n",
    "    for line in f:\n",
    "        tokens = line.strip().split(' ')\n",
    "        movie_list.append(' '.join(tokens[1:]))\n",
    "movie_list = np.array(movie_list)"
   ]
  },
  {
   "cell_type": "code",
   "execution_count": 36,
   "id": "a423cc6f",
   "metadata": {},
   "outputs": [
    {
     "name": "stdout",
     "output_type": "stream",
     "text": [
      "(4.418256696939427, 'Forrest Gump (1994)')\n",
      "(4.268612254141631, 'Star Wars (1977)')\n",
      "(4.175845335026573, 'Titanic (1997)')\n",
      "(4.0562781211542625, 'Air Force One (1997)')\n",
      "(4.0533777283130075, 'Shawshank Redemption, The (1994)')\n",
      "(4.018085301807867, 'Return of the Jedi (1983)')\n",
      "(3.9764433951496048, 'Usual Suspects, The (1995)')\n",
      "(3.802771044676928, 'Good Will Hunting (1997)')\n",
      "(3.7769247826739685, 'Toy Story (1995)')\n",
      "(3.775380523148549, 'Empire Strikes Back, The (1980)')\n"
     ]
    }
   ],
   "source": [
    "index= np.argsort(prediction[:,0])[::-1]\n",
    "for id in index[:10]:\n",
    "    print((prediction[id,0],movie_list[id]))"
   ]
  },
  {
   "cell_type": "code",
   "execution_count": null,
   "id": "09d0ee5e",
   "metadata": {},
   "outputs": [],
   "source": []
  }
 ],
 "metadata": {
  "kernelspec": {
   "display_name": "Python 3",
   "language": "python",
   "name": "python3"
  },
  "language_info": {
   "codemirror_mode": {
    "name": "ipython",
    "version": 3
   },
   "file_extension": ".py",
   "mimetype": "text/x-python",
   "name": "python",
   "nbconvert_exporter": "python",
   "pygments_lexer": "ipython3",
   "version": "3.8.8"
  }
 },
 "nbformat": 4,
 "nbformat_minor": 5
}
