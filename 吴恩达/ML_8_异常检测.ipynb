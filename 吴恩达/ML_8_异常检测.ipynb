{
 "cells": [
  {
   "cell_type": "code",
   "execution_count": 1,
   "id": "0b61b383",
   "metadata": {},
   "outputs": [],
   "source": [
    "import numpy as np\n",
    "import pandas as pd\n",
    "import scipy.io as sio\n",
    "from scipy import stats\n",
    "from sklearn.metrics import classification_report  #这个包是评价报告\n",
    "from sklearn.metrics import f1_score\n",
    "from sklearn.model_selection import train_test_split\n",
    "import matplotlib.pyplot as plt  #加油！！！珍惜时间～～～\n",
    "import seaborn as sns"
   ]
  },
  {
   "cell_type": "code",
   "execution_count": 2,
   "id": "45897c74",
   "metadata": {},
   "outputs": [
    {
     "data": {
      "text/html": [
       "<div>\n",
       "<style scoped>\n",
       "    .dataframe tbody tr th:only-of-type {\n",
       "        vertical-align: middle;\n",
       "    }\n",
       "\n",
       "    .dataframe tbody tr th {\n",
       "        vertical-align: top;\n",
       "    }\n",
       "\n",
       "    .dataframe thead th {\n",
       "        text-align: right;\n",
       "    }\n",
       "</style>\n",
       "<table border=\"1\" class=\"dataframe\">\n",
       "  <thead>\n",
       "    <tr style=\"text-align: right;\">\n",
       "      <th></th>\n",
       "      <th>Latency</th>\n",
       "      <th>Throughput</th>\n",
       "    </tr>\n",
       "  </thead>\n",
       "  <tbody>\n",
       "    <tr>\n",
       "      <th>0</th>\n",
       "      <td>15.790260</td>\n",
       "      <td>14.921024</td>\n",
       "    </tr>\n",
       "    <tr>\n",
       "      <th>1</th>\n",
       "      <td>13.639619</td>\n",
       "      <td>15.329955</td>\n",
       "    </tr>\n",
       "    <tr>\n",
       "      <th>2</th>\n",
       "      <td>14.865899</td>\n",
       "      <td>16.473865</td>\n",
       "    </tr>\n",
       "    <tr>\n",
       "      <th>3</th>\n",
       "      <td>13.584676</td>\n",
       "      <td>13.989306</td>\n",
       "    </tr>\n",
       "    <tr>\n",
       "      <th>4</th>\n",
       "      <td>13.464042</td>\n",
       "      <td>15.635330</td>\n",
       "    </tr>\n",
       "  </tbody>\n",
       "</table>\n",
       "</div>"
      ],
      "text/plain": [
       "     Latency  Throughput\n",
       "0  15.790260   14.921024\n",
       "1  13.639619   15.329955\n",
       "2  14.865899   16.473865\n",
       "3  13.584676   13.989306\n",
       "4  13.464042   15.635330"
      ]
     },
     "execution_count": 2,
     "metadata": {},
     "output_type": "execute_result"
    }
   ],
   "source": [
    "data_1=sio.loadmat('/Users/yangguangqiang/Music/career-2021/ML-startup/吴恩达/ML-homework-main/ex8-anomaly detection and recommendation/data/ex8data1.mat')\n",
    "data_x=data_1['X']\n",
    "df_1=pd.DataFrame(data_x,columns=['Latency', 'Throughput'])\n",
    "test_x=pd.DataFrame(data_1['Xval'],columns=['Latency', 'Throughput'])\n",
    "test_y=pd.DataFrame(data_1['yval'],columns=['anomal'])\n",
    "test_x.head()"
   ]
  },
  {
   "cell_type": "code",
   "execution_count": 3,
   "id": "7769a9d8",
   "metadata": {},
   "outputs": [
    {
     "name": "stderr",
     "output_type": "stream",
     "text": [
      "/opt/anaconda3/lib/python3.8/site-packages/seaborn/_decorators.py:36: FutureWarning: Pass the following variables as keyword args: x, y. From version 0.12, the only valid positional argument will be `data`, and passing other arguments without an explicit keyword will result in an error or misinterpretation.\n",
      "  warnings.warn(\n"
     ]
    },
    {
     "data": {
      "image/png": "[encoded data removed]",
      "text/plain": [
       "<Figure size 432x288 with 1 Axes>"
      ]
     },
     "metadata": {
      "needs_background": "light"
     },
     "output_type": "display_data"
    }
   ],
   "source": [
    "sns.regplot('Latency', 'Throughput', marker='x',data=df_1, fit_reg=False,scatter_kws={\"s\":20,\"alpha\":0.5})\n",
    "plt.show()"
   ]
  },
  {
   "cell_type": "code",
   "execution_count": 39,
   "id": "7ca7431f",
   "metadata": {},
   "outputs": [],
   "source": [
    "def get_mean(X):    # X: dataframe nxk\n",
    "    m=X.shape[0]\n",
    "    return np.sum(X.values,axis=0)/m   # sum along column\n",
    "    \n",
    "def get_var(X,mean):\n",
    "    m=X.shape[0]\n",
    "    array_temp=X.values-np.array([list(mean) for _ in range(m)])\n",
    "    return np.sum(np.power(array_temp,2),axis=0)/m"
   ]
  },
  {
   "cell_type": "code",
   "execution_count": 40,
   "id": "4a54a85b",
   "metadata": {},
   "outputs": [
    {
     "data": {
      "text/plain": [
       "array([14.11222578, 14.99771051])"
      ]
     },
     "execution_count": 40,
     "metadata": {},
     "output_type": "execute_result"
    }
   ],
   "source": [
    "get_mean(df_1)"
   ]
  },
  {
   "cell_type": "code",
   "execution_count": 41,
   "id": "2d90fada",
   "metadata": {},
   "outputs": [
    {
     "data": {
      "text/plain": [
       "array([1.83263141, 1.70974533])"
      ]
     },
     "execution_count": 41,
     "metadata": {},
     "output_type": "execute_result"
    }
   ],
   "source": [
    "get_var(df_1,get_mean(df_1))"
   ]
  },
  {
   "cell_type": "code",
   "execution_count": 3,
   "id": "503f9dce",
   "metadata": {},
   "outputs": [],
   "source": [
    "def get_thre(train_x,test_x,test_y):   #多元正态分布\n",
    "    cov_array=np.cov(train_x.T)   # k*k\n",
    "    mean=train_x.mean(axis=0)     # get 协方差矩阵 and mean based on train data\n",
    "    \n",
    "    multi_normal=stats.multivariate_normal(mean, cov_array)\n",
    "    Pdf=multi_normal.pdf(test_x)     #get probability at every point\n",
    "\n",
    "    thre_list=np.linspace(np.min(Pdf), np.max(Pdf), num=10000)   # the value range of thre\n",
    "    score=[]\n",
    "    for thre in thre_list:\n",
    "        y_pre=(Pdf<=thre).astype('int')  # <= :y =1 ; >:y=0\n",
    "        score.append(f1_score(y_pre,test_y))\n",
    "    \n",
    "    max_index= np.argmax(score)\n",
    "    return Pdf[max_index],score[max_index]  "
   ]
  },
  {
   "cell_type": "code",
   "execution_count": 9,
   "id": "bc50ad15",
   "metadata": {},
   "outputs": [],
   "source": [
    "def predict(train_x,test_x,test_y,E):\n",
    "    # first combin train and test x\n",
    "    data_x=np.concatenate((train_x,test_x), axis=0)\n",
    "    # put in normal model \n",
    "    cov_array=np.cov(data_x.T)  \n",
    "    mean=data_x.mean(axis=0)     # get 协方差矩阵 and mean based on train data\n",
    "    model=stats.multivariate_normal(mean, cov_array)\n",
    "    # predict using test x\n",
    "    pval =model.pdf(test_x)\n",
    "    y_pred = (pval <= E).astype('int')\n",
    "    print(classification_report(test_y, y_pred))\n",
    "\n",
    "    return model, y_pred"
   ]
  },
  {
   "cell_type": "code",
   "execution_count": 32,
   "id": "2dc421f3",
   "metadata": {},
   "outputs": [
    {
     "data": {
      "text/plain": [
       "(0.07352084871604168, 0.8750000000000001)"
      ]
     },
     "execution_count": 32,
     "metadata": {},
     "output_type": "execute_result"
    }
   ],
   "source": [
    "get_thre(df_1,test_x,test_y)"
   ]
  },
  {
   "cell_type": "code",
   "execution_count": 2,
   "id": "e4f0beb1",
   "metadata": {},
   "outputs": [],
   "source": [
    "data_2=sio.loadmat('/Users/yangguangqiang/Music/career-2021/ML-startup/吴恩达/ML-homework-main/ex8-anomaly detection and recommendation/data/ex8data2.mat')\n",
    "train_2=pd.DataFrame(data_2['X'])\n",
    "test_x_2=pd.DataFrame(data_2['Xval'])\n",
    "test_y_2=pd.DataFrame(data_2['yval'])"
   ]
  },
  {
   "cell_type": "code",
   "execution_count": 10,
   "id": "a1273abd",
   "metadata": {},
   "outputs": [],
   "source": [
    "e_value,F_score=get_thre(train_2,test_x_2,test_y_2)"
   ]
  },
  {
   "cell_type": "code",
   "execution_count": 12,
   "id": "63a3a7b8",
   "metadata": {},
   "outputs": [
    {
     "name": "stdout",
     "output_type": "stream",
     "text": [
      "              precision    recall  f1-score   support\n",
      "\n",
      "           0       0.99      0.73      0.84        90\n",
      "           1       0.27      0.90      0.42        10\n",
      "\n",
      "    accuracy                           0.75       100\n",
      "   macro avg       0.63      0.82      0.63       100\n",
      "weighted avg       0.91      0.75      0.80       100\n",
      "\n"
     ]
    }
   ],
   "source": [
    "multi_normal, y_pred=predict(train_2,test_x_2,test_y_2,e_value)"
   ]
  },
  {
   "cell_type": "code",
   "execution_count": null,
   "id": "8be4a42d",
   "metadata": {},
   "outputs": [],
   "source": []
  },
  {
   "cell_type": "code",
   "execution_count": null,
   "id": "d7c4bd35",
   "metadata": {},
   "outputs": [],
   "source": []
  }
 ],
 "metadata": {
  "kernelspec": {
   "display_name": "Python 3",
   "language": "python",
   "name": "python3"
  },
  "language_info": {
   "codemirror_mode": {
    "name": "ipython",
    "version": 3
   },
   "file_extension": ".py",
   "mimetype": "text/x-python",
   "name": "python",
   "nbconvert_exporter": "python",
   "pygments_lexer": "ipython3",
   "version": "3.8.8"
  }
 },
 "nbformat": 4,
 "nbformat_minor": 5
}
